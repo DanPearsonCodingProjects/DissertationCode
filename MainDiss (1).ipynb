{
  "nbformat": 4,
  "nbformat_minor": 0,
  "metadata": {
    "colab": {
      "provenance": [],
      "gpuType": "T4"
    },
    "kernelspec": {
      "name": "python3",
      "display_name": "Python 3"
    },
    "language_info": {
      "name": "python"
    },
    "accelerator": "GPU"
  },
  "cells": [
    {
      "cell_type": "code",
      "source": [
        "# @title **Load Relevant Libraries**\n",
        "\n",
        "import yfinance as yf\n",
        "import pandas as pd\n",
        "import numpy as np\n",
        "import matplotlib.pyplot as plt\n",
        "from sklearn.preprocessing import StandardScaler\n",
        "from sklearn.model_selection import train_test_split\n",
        "import xgboost as xgb\n",
        "from sklearn.metrics import mean_squared_error\n",
        "from sklearn.model_selection import RandomizedSearchCV\n",
        "from scipy.stats import uniform, randint\n",
        "from sklearn.metrics import r2_score\n",
        "import os"
      ],
      "metadata": {
        "id": "mDmnUjWxc7YF",
        "cellView": "form"
      },
      "execution_count": null,
      "outputs": []
    },
    {
      "cell_type": "code",
      "source": [
        "# @title **Class Code**\n",
        "from typing_extensions import final\n",
        "\n",
        "all_files = os.listdir('/content/')\n",
        "class Model2:\n",
        "  def __init__(self,symbol):\n",
        "    if len([x for x in all_files if symbol in x]) == 0:\n",
        "      self.stock_data = yf.download(symbol, start='2016-01-01', end='2023-01-01')\n",
        "      self.stock_data.to_csv(f'{symbol}.csv')\n",
        "    self.df = pd.read_csv(f'{symbol}.csv')\n",
        "    self.time1 = 0\n",
        "    self.max_depth = False\n",
        "    self.learning_rate = False\n",
        "    self.n_estimators = False\n",
        "    self.final_money = 0\n",
        "\n",
        "\n",
        "  def returns(self):\n",
        "    self.df['Returns'] = self.df.Open - self.df.Close\n",
        "    self.df['C_Returns'] = self.df.Returns.cumsum()\n",
        "    self.df.Returns = self.df.Returns.round(2)\n",
        "    self.df.C_Returns = self.df.C_Returns.round(2)\n",
        "\n",
        "  def moving_average(self,row_index, window_size, column):\n",
        "      return self.df[column].iloc[max(0, row_index - window_size + 1):row_index + 1].mean()\n",
        "\n",
        "  def ema(self):\n",
        "    n = 5\n",
        "    alpha =  2 / (n+1)\n",
        "    self.df['EMA'] = self.df['Close'].ewm(alpha=alpha,min_periods=n).mean()\n",
        "    ema_mean = self.df['EMA'].iloc[n+1: n+1 + n].mean()\n",
        "    self.df['EMA'].fillna(ema_mean,inplace=True)\n",
        "\n",
        "  def convert_time(self):\n",
        "    self.df['Date'] = pd.to_datetime(self.df['Date'])\n",
        "    self.df['Day'] = self.df['Date'].dt.day\n",
        "    self.df['Month'] = self.df['Date'].dt.month\n",
        "    self.df['Year'] = self.df['Date'].dt.year\n",
        "    self.df['Quarter'] = self.df['Date'].dt.quarter\n",
        "\n",
        "  def add_features(self):\n",
        "    self.returns()\n",
        "    window_size = 3\n",
        "    self.df['MA'] = self.df.apply(lambda row: self.moving_average(row.name, window_size, 'Close'), axis=1)\n",
        "    self.ema()\n",
        "    self.convert_time()\n",
        "\n",
        "  def visualise_data(self):\n",
        "    print(self.df.describe())\n",
        "    num_cols = self.df.shape[1] - 1\n",
        "\n",
        "    # Create a figure and axes object with a grid layout\n",
        "    fig, axs = plt.subplots(num_cols, 1, figsize=(10, 5*num_cols), tight_layout=True)\n",
        "\n",
        "    # Iterate over each column (excluding the first column)\n",
        "    for i, col in enumerate(self.df.columns[1:]):\n",
        "        # Plot histogram in the ith subplot\n",
        "        axs[i].hist(self.df[col], bins=20, label=col)\n",
        "        axs[i].set_xlabel(\"Value\")\n",
        "        axs[i].set_ylabel(\"Frequency\")\n",
        "        axs[i].legend()\n",
        "\n",
        "    # Show the plot\n",
        "    plt.show()\n",
        "\n",
        "  def log_data(self,col):\n",
        "    log_val = np.log(self.df[col])\n",
        "    return log_val\n",
        "\n",
        "  def standard_scaler(self,data):\n",
        "    standard = StandardScaler()\n",
        "    df2 = data\n",
        "    arr = np.array(df2).reshape(-1,1)\n",
        "    x = standard.fit_transform(arr)\n",
        "    return x\n",
        "\n",
        "  def scale_data(self):\n",
        "    try:\n",
        "      self.df['Volume'] = self.log('Volume')\n",
        "      self.df['Volume'] = self.standard_scaler(self.df.Volume)\n",
        "    except Exception as e:\n",
        "      pass\n",
        "\n",
        "    self.df['MA'] = self.standard_scaler(self.df.MA)\n",
        "\n",
        "    self.df['EMA'] = self.standard_scaler(self.df.EMA)\n",
        "\n",
        "    self.df['Returns'] = self.standard_scaler(self.df.Returns)\n",
        "\n",
        "    self.df['Day'] = self.standard_scaler(self.df.Day)\n",
        "    self.df['Month'] = self.standard_scaler(self.df.Month)\n",
        "    self.df['Year'] = self.standard_scaler(self.df.Year)\n",
        "    self.df['Quarter'] = self.standard_scaler(self.df.Quarter)\n",
        "\n",
        "    self.df['C_Returns'] = self.standard_scaler(self.df.C_Returns)\n",
        "\n",
        "\n",
        "\n",
        "  def training_testing(self):\n",
        "    self.X = self.df.iloc[:-1,-8:]\n",
        "    self.y = self.df.Close.iloc[:-1]\n",
        "    X_shifted = self.X.shift(-1)\n",
        "    X_shifted.dropna(inplace=True)\n",
        "\n",
        "    lenX = len(self.X.iloc[:,1])\n",
        "    lenY = len(self.y)\n",
        "\n",
        "    X_training = round(lenX * 0.75)\n",
        "    Y_training = round(lenY * 0.75)\n",
        "\n",
        "    self.X_train = X_shifted.iloc[:X_training]\n",
        "    self.X_test = X_shifted.iloc[X_training+1:]\n",
        "\n",
        "    self.y_train = self.y.iloc[:Y_training]\n",
        "    self.y_test = self.y.iloc[Y_training+1:-1]\n",
        "\n",
        "\n",
        "  def XGB_model(self):\n",
        "    model = xgb.XGBRegressor()\n",
        "    # Train the model\n",
        "    model.fit(self.X_train, self.y_train)\n",
        "\n",
        "    # Make predictions on the test data\n",
        "    y_pred = model.predict(self.X_test)\n",
        "\n",
        "    # Evaluate the model using mean squared error\n",
        "    mse = mean_squared_error(self.y_test, y_pred)\n",
        "    print(\"Mean Squared Error:\", mse)\n",
        "\n",
        "    #plt.plot(range(len(self.y_test)),self.y_test)\n",
        "    #plt.plot(range(len(self.y_test)),y_pred)\n",
        "    #plt.show()\n",
        "    #print(\"Time1 \",self.time1)\n",
        "    final_point_y = self.y_test.iloc[self.time1-1]\n",
        "    preds = model.predict(self.X_test[self.time1:self.time1+2])\n",
        "\n",
        "    if preds[0] < final_point_y:\n",
        "      return model, 0\n",
        "    else:\n",
        "      return model,1\n",
        "\n",
        "  def parameter_tuning_XGB(self):\n",
        "\n",
        "\n",
        "    model,val = self.XGB_model()\n",
        "\n",
        "    if val == 0:\n",
        "      return False\n",
        "\n",
        "    if self.learning_rate != False:\n",
        "      print(True)\n",
        "    else:\n",
        "      param_dist = {\n",
        "          'max_depth': [3,5,9,11],\n",
        "          'learning_rate': uniform(0.1),\n",
        "          'n_estimators': [300,400,500],\n",
        "      }\n",
        "\n",
        "      # Perform random search\n",
        "      random_search = RandomizedSearchCV(estimator=model, param_distributions=param_dist, n_iter=2, cv=3, scoring='neg_mean_squared_error', random_state=42) # Could use a better method\n",
        "      random_search.fit(self.X_train, self.y_train)\n",
        "\n",
        "      # Get the best hyperparameters\n",
        "      best_params = random_search.best_params_\n",
        "\n",
        "      self.max_depth=best_params['max_depth']\n",
        "      self.learning_rate=best_params['learning_rate']\n",
        "      self.n_estimators=best_params['n_estimators']\n",
        "    #You would then have to store these in a separate list for each\n",
        "\n",
        "\n",
        "\n",
        "      #print(\"Best Hyperparameters:\", best_params)\n",
        "\n",
        "\n",
        "\n",
        "    # Instantiate the XGBRegressor with the best hyperparameters\n",
        "    best_model = xgb.XGBRegressor(\n",
        "        max_depth=self.max_depth,\n",
        "        learning_rate=self.learning_rate,\n",
        "        n_estimators=self.n_estimators,\n",
        "    )\n",
        "\n",
        "    # Train the model\n",
        "    best_model.fit(self.X_train, self.y_train)\n",
        "\n",
        "    # Make predictions on the test data\n",
        "    #y_pred = best_model.predict(self.X_test)\n",
        "\n",
        "    # Evaluate the model using mean squared error\n",
        "    #mse = mean_squared_error(self.y_test, y_pred)\n",
        "    #print(\"Mean Squared Error:\", mse)\n",
        "\n",
        "\n",
        "\n",
        "\n",
        "    return best_model\n",
        "\n",
        "  def final_predictions(self):\n",
        "\n",
        "    month = 0\n",
        "    returns = []\n",
        "    money_returns = []\n",
        "    total_investment = []\n",
        "    for time in range(1,240):\n",
        "      if time % 30 == 0:\n",
        "        self.time1 = time\n",
        "        model = self.parameter_tuning_XGB()\n",
        "        if model == False:\n",
        "          print(\"No\")\n",
        "          continue\n",
        "        else:\n",
        "          print(\"Yes\")\n",
        "          final_point_y = self.y_test.iloc[self.time1-1]\n",
        "          #Next the model needs to predict the next 30 days\n",
        "\n",
        "          preds = model.predict(self.X_test.iloc[self.time1:self.time1+30])\n",
        "\n",
        "          #Predicting the next 31 days\n",
        "          percent = [x / final_point_y for x in preds]\n",
        "          position = ['Buy']\n",
        "\n",
        "          # If prediction goes down 7% compared to last day in previous month then\n",
        "          thresh = final_point_y / 1.07\n",
        "          thresh_buy = final_point_y * 1.07\n",
        "\n",
        "\n",
        "          for x in preds:\n",
        "            len_pos = len(position)\n",
        "            if x < thresh and position[-1]  != 'Sell' or self.y_test.iloc[len_pos] < thresh:\n",
        "              position.append('Sell')\n",
        "\n",
        "            elif position[-1] == 'Sell':\n",
        "              break\n",
        "\n",
        "            elif x >= thresh_buy or self.y_test.iloc[len_pos] > thresh_buy:\n",
        "              position.append('Sell')\n",
        "            else:\n",
        "              position.append('Hold')\n",
        "\n",
        "          #Or if the actual y test hits the threshold then sell\n",
        "\n",
        "          len_position = len(position)\n",
        "\n",
        "          money =  self.y_test.iloc[self.time1 + len_position] - final_point_y\n",
        "\n",
        "          money_reverse = final_point_y - self.y_test.iloc[self.time1 + len_position]\n",
        "\n",
        "\n",
        "          returns.append((money/final_point_y) * 100)\n",
        "          money_returns.append(money)\n",
        "          total_investment.append(final_point_y)\n",
        "\n",
        "    avg = sum(returns)\n",
        "    lenavg = len(returns)\n",
        "    if lenavg >1:\n",
        "      return avg, money_returns, total_investment\n",
        "    #elif lenavg == 1:\n",
        "    #  return returns[0], money_returns, total_investment\n",
        "    #else:\n",
        "    #  return 0, money_returns, total_investment\n",
        "\n",
        "\n",
        "\n",
        "  def main(self):\n",
        "    self.add_features()\n",
        "    #self.visualise_data()\n",
        "    self.scale_data()\n",
        "    self.training_testing()\n",
        "\n",
        "    #self.XGB_model()\n",
        "    #self.parameter_tuning_XGB()\n",
        "    return self.final_predictions()\n",
        "\n",
        "\n",
        "\n",
        "\n",
        "\n",
        "\n",
        "\n"
      ],
      "metadata": {
        "id": "Qt9LIGO2c7aU"
      },
      "execution_count": null,
      "outputs": []
    },
    {
      "cell_type": "code",
      "source": [
        "#@title **Company List**\n",
        "company_list = [\n",
        "    'BA.L',\n",
        "    'SSE.L',\n",
        "    'MKS.L',\n",
        "    'SHEL.L',\n",
        "    'BP.L',\n",
        "    'BME.L',\n",
        "    'CNA.L',\n",
        "    'NG.L',\n",
        "    'LSEG.L',\n",
        "    'III.L',\n",
        "    'FRAS.L',\n",
        "    'CPG.L',\n",
        "    'RTO.L',\n",
        "    'DPH.L',\n",
        "    'UU.L',\n",
        "    'REL.L',\n",
        "    'RIO.L',\n",
        "    'ABF.L',\n",
        "    'SBRY.L',\n",
        "    'HIK.L',\n",
        "    'MNDI.L',\n",
        "    'MRO.L',\n",
        "    'IHG.L',\n",
        "    'RR.L',\n",
        "    'LAND.L',\n",
        "    'BNZL.L',\n",
        "    'JD.L',\n",
        "    'NXT.L',\n",
        "    'SGRO.L',\n",
        "    'ADM.L',\n",
        "    'SKG.L',\n",
        "    'HWDN.L',\n",
        "    'PHNX.L',\n",
        "    'KGF.L',\n",
        "    'TSCO.L',\n",
        "    'IMI.L',\n",
        "    'GLEN.L',\n",
        "    'UTG.L',\n",
        "    'SVT.L',\n",
        "    'HSBA.L',\n",
        "    'PSON.L',\n",
        "    'SMDS.L',\n",
        "    'AV.L',\n",
        "    'SN.L',\n",
        "    'SGE.L',\n",
        "    'WTB.L',\n",
        "    'STAN.L',\n",
        "    'ULVR.L',\n",
        "    'HLMA.L',\n",
        "    'FCIT.L',\n",
        "    'SMIN.L',\n",
        "    'BARC.L',\n",
        "    'AUTO.L',\n",
        "    'AAF.L',\n",
        "    'LGEN.L',\n",
        "    'BT-A.L',\n",
        "    'RS1.L',\n",
        "    'MNG.L',\n",
        "    'AHT.L',\n",
        "    'HLN.L',\n",
        "    'SDR.L',\n",
        "    'FLTR.L',\n",
        "    'RKT.L',\n",
        "    'GSK.L',\n",
        "    'WEIR.L',\n",
        "    'RMV.L',\n",
        "    'SMT.L',\n",
        "    'HL.L',\n",
        "    'LLOY.L',\n",
        "    'TW.L',\n",
        "    'INF.L',\n",
        "    'BKG.L',\n",
        "    'DCC.L',\n",
        "    'CRDA.L',\n",
        "    'STJ.L',\n",
        "    'DPLM.L',\n",
        "    'VOD.L',\n",
        "    'ITRK.L',\n",
        "    'EXPN.L',\n",
        "    'PSH.L',\n",
        "    'IMB.L',\n",
        "    'BEX.L',\n",
        "    'NWG.L',\n",
        "    'IAG.L',\n",
        "    'ANTO.L',\n",
        "    'ENT.L',\n",
        "    'CTEC.L',\n",
        "    'PRU.L',\n",
        "    'BATS.L',\n",
        "    'CCH.L',\n",
        "    'BRBY.L',\n",
        "    'EDV.L',\n",
        "    'SPX.L',\n",
        "    'AAL.L',\n",
        "    'BDEV.L',\n",
        "    'AZN.L',\n",
        "    'WPP.L',\n",
        "    'FRES.L',\n",
        "    'OCDO.L',\n",
        "    'DGE.L',\n",
        "]\n"
      ],
      "metadata": {
        "id": "zfNq73ADc__D",
        "cellView": "form"
      },
      "execution_count": null,
      "outputs": []
    },
    {
      "cell_type": "code",
      "source": [
        "#@title **Run Model Training & Prediction**\n",
        "\n",
        "from tqdm import tqdm\n",
        "\n",
        "results1 = []\n",
        "total_money_made = []\n",
        "total_invest = []\n",
        "for x in tqdm(company_list):\n",
        "  try:\n",
        "    stock = Model2(x)\n",
        "    perc_returns, monetary_returns, investment = stock.main()\n",
        "    results1.append(perc_returns)\n",
        "    total_money_made.append(monetary_returns)\n",
        "    total_invest.append(investment)\n",
        "  except Exception as e:\n",
        "    print(e)\n",
        "    continue\n"
      ],
      "metadata": {
        "colab": {
          "base_uri": "https://localhost:8080/"
        },
        "id": "mavKgiU3dABS",
        "outputId": "2fac9d95-bbb4-43af-885c-59cb7155aca3"
      },
      "execution_count": null,
      "outputs": [
        {
          "output_type": "stream",
          "name": "stderr",
          "text": [
            "\r  0%|          | 0/100 [00:00<?, ?it/s]"
          ]
        },
        {
          "output_type": "stream",
          "name": "stdout",
          "text": [
            "Mean Squared Error: 6218.645999148496\n",
            "Yes\n",
            "Mean Squared Error: 6218.645999148496\n",
            "No\n",
            "Mean Squared Error: 6218.645999148496\n",
            "No\n",
            "Mean Squared Error: 6218.645999148496\n",
            "No\n",
            "Mean Squared Error: 6218.645999148496\n",
            "True\n",
            "Yes\n"
          ]
        },
        {
          "output_type": "stream",
          "name": "stderr",
          "text": [
            "\r  1%|          | 1/100 [00:02<03:49,  2.32s/it]"
          ]
        },
        {
          "output_type": "stream",
          "name": "stdout",
          "text": [
            "Mean Squared Error: 6218.645999148496\n",
            "No\n",
            "Mean Squared Error: 6218.645999148496\n",
            "No\n",
            "Mean Squared Error: 4635.059923089634\n",
            "Yes\n",
            "Mean Squared Error: 4635.059923089634\n",
            "True\n",
            "Yes\n",
            "Mean Squared Error: 4635.059923089634\n",
            "True\n",
            "Yes\n",
            "Mean Squared Error: 4635.059923089634\n",
            "True\n",
            "Yes\n",
            "Mean Squared Error: 4635.059923089634\n",
            "No\n",
            "Mean Squared Error: 4635.059923089634\n",
            "No\n",
            "Mean Squared Error: 4635.059923089634\n",
            "True\n"
          ]
        },
        {
          "output_type": "stream",
          "name": "stderr",
          "text": [
            "\r  2%|▏         | 2/100 [00:05<04:12,  2.57s/it]"
          ]
        },
        {
          "output_type": "stream",
          "name": "stdout",
          "text": [
            "Yes\n",
            "Mean Squared Error: 13.521354030283158\n",
            "Yes\n",
            "Mean Squared Error: 13.521354030283158\n",
            "No\n",
            "Mean Squared Error: 13.521354030283158\n",
            "No\n",
            "Mean Squared Error: 13.521354030283158\n",
            "True\n",
            "Yes\n",
            "Mean Squared Error: 13.521354030283158\n",
            "No\n"
          ]
        },
        {
          "output_type": "stream",
          "name": "stderr",
          "text": [
            "\r  3%|▎         | 3/100 [00:07<03:55,  2.42s/it]"
          ]
        },
        {
          "output_type": "stream",
          "name": "stdout",
          "text": [
            "Mean Squared Error: 13.521354030283158\n",
            "No\n",
            "Mean Squared Error: 13.521354030283158\n",
            "No\n",
            "Mean Squared Error: 421.99387425739644\n",
            "No\n",
            "Mean Squared Error: 421.99387425739644\n",
            "Yes\n",
            "Mean Squared Error: 421.99387425739644\n",
            "No\n",
            "Mean Squared Error: 421.99387425739644\n",
            "No\n",
            "Mean Squared Error: 421.99387425739644\n",
            "No\n",
            "Mean Squared Error: 421.99387425739644\n",
            "True\n",
            "Yes\n"
          ]
        },
        {
          "output_type": "stream",
          "name": "stderr",
          "text": [
            "\r  4%|▍         | 4/100 [00:10<04:34,  2.86s/it]"
          ]
        },
        {
          "output_type": "stream",
          "name": "stdout",
          "text": [
            "Mean Squared Error: 421.99387425739644\n",
            "No\n",
            "Mean Squared Error: 31.344556367934846\n",
            "No\n",
            "Mean Squared Error: 31.344556367934846\n",
            "No\n",
            "Mean Squared Error: 31.344556367934846\n",
            "No\n",
            "Mean Squared Error: 31.344556367934846\n",
            "No\n",
            "Mean Squared Error: 31.344556367934846\n",
            "Yes\n",
            "Mean Squared Error: 31.344556367934846\n",
            "No\n"
          ]
        },
        {
          "output_type": "stream",
          "name": "stderr",
          "text": [
            "\r  5%|▌         | 5/100 [00:13<04:16,  2.70s/it]"
          ]
        },
        {
          "output_type": "stream",
          "name": "stdout",
          "text": [
            "Mean Squared Error: 31.344556367934846\n",
            "No\n",
            "cannot unpack non-iterable NoneType object\n",
            "Mean Squared Error: 429.4172327806771\n",
            "Yes\n",
            "Mean Squared Error: 429.4172327806771\n",
            "No\n",
            "Mean Squared Error: 429.4172327806771\n",
            "True\n",
            "Yes\n",
            "Mean Squared Error: 429.4172327806771\n",
            "No\n",
            "Mean Squared Error: 429.4172327806771\n",
            "No\n"
          ]
        },
        {
          "output_type": "stream",
          "name": "stderr",
          "text": [
            "\r  6%|▌         | 6/100 [00:15<04:05,  2.62s/it]"
          ]
        },
        {
          "output_type": "stream",
          "name": "stdout",
          "text": [
            "Mean Squared Error: 429.4172327806771\n",
            "No\n",
            "Mean Squared Error: 429.4172327806771\n",
            "No\n",
            "Mean Squared Error: 6.240806973893698\n",
            "No\n",
            "Mean Squared Error: 6.240806973893698\n",
            "Yes\n",
            "Mean Squared Error: 6.240806973893698\n",
            "True\n",
            "Yes\n",
            "Mean Squared Error: 6.240806973893698\n",
            "True\n",
            "Yes\n",
            "Mean Squared Error: 6.240806973893698\n",
            "No\n"
          ]
        },
        {
          "output_type": "stream",
          "name": "stderr",
          "text": [
            "\r  7%|▋         | 7/100 [00:17<03:48,  2.46s/it]"
          ]
        },
        {
          "output_type": "stream",
          "name": "stdout",
          "text": [
            "Mean Squared Error: 6.240806973893698\n",
            "No\n",
            "Mean Squared Error: 6.240806973893698\n",
            "No\n",
            "Mean Squared Error: 63.30033446673135\n",
            "Yes\n",
            "Mean Squared Error: 63.30033446673135\n",
            "True\n",
            "Yes\n",
            "Mean Squared Error: 63.30033446673135\n",
            "True\n",
            "Yes\n",
            "Mean Squared Error: 63.30033446673135\n",
            "No\n",
            "Mean Squared Error: 63.30033446673135\n",
            "No\n",
            "Mean Squared Error: 63.30033446673135\n",
            "True\n",
            "Yes\n",
            "Mean Squared Error: 63.30033446673135\n",
            "True\n"
          ]
        },
        {
          "output_type": "stream",
          "name": "stderr",
          "text": [
            "\r  8%|▊         | 8/100 [00:20<03:57,  2.58s/it]"
          ]
        },
        {
          "output_type": "stream",
          "name": "stdout",
          "text": [
            "Yes\n",
            "Mean Squared Error: 8851.55174699263\n",
            "Yes\n",
            "Mean Squared Error: 8851.55174699263\n",
            "No\n",
            "Mean Squared Error: 8851.55174699263\n",
            "No\n",
            "Mean Squared Error: 8851.55174699263\n",
            "No\n",
            "Mean Squared Error: 8851.55174699263\n",
            "No\n",
            "Mean Squared Error: 8851.55174699263\n",
            "No\n"
          ]
        },
        {
          "output_type": "stream",
          "name": "stderr",
          "text": [
            "\r  9%|▉         | 9/100 [00:24<04:24,  2.91s/it]"
          ]
        },
        {
          "output_type": "stream",
          "name": "stdout",
          "text": [
            "Mean Squared Error: 8851.55174699263\n",
            "No\n",
            "cannot unpack non-iterable NoneType object\n",
            "Mean Squared Error: 14539.56429060728\n",
            "No\n",
            "Mean Squared Error: 14539.56429060728\n",
            "No\n",
            "Mean Squared Error: 14539.56429060728\n",
            "No\n",
            "Mean Squared Error: 14539.56429060728\n",
            "No\n",
            "Mean Squared Error: 14539.56429060728\n",
            "No\n",
            "Mean Squared Error: 14539.56429060728\n",
            "No\n"
          ]
        },
        {
          "output_type": "stream",
          "name": "stderr",
          "text": [
            "\r 10%|█         | 10/100 [00:25<03:28,  2.32s/it]"
          ]
        },
        {
          "output_type": "stream",
          "name": "stdout",
          "text": [
            "Mean Squared Error: 14539.56429060728\n",
            "No\n",
            "cannot unpack non-iterable NoneType object\n",
            "Mean Squared Error: 37320.2909599198\n",
            "No\n",
            "Mean Squared Error: 37320.2909599198\n",
            "No\n",
            "Mean Squared Error: 37320.2909599198\n",
            "No\n",
            "Mean Squared Error: 37320.2909599198\n",
            "No\n",
            "Mean Squared Error: 37320.2909599198\n",
            "No\n",
            "Mean Squared Error: 37320.2909599198\n",
            "No\n"
          ]
        },
        {
          "output_type": "stream",
          "name": "stderr",
          "text": [
            "\r 11%|█         | 11/100 [00:26<02:50,  1.91s/it]"
          ]
        },
        {
          "output_type": "stream",
          "name": "stdout",
          "text": [
            "Mean Squared Error: 37320.2909599198\n",
            "No\n",
            "cannot unpack non-iterable NoneType object\n",
            "Mean Squared Error: 179.99858925498344\n",
            "Yes\n",
            "Mean Squared Error: 179.99858925498344\n",
            "No\n",
            "Mean Squared Error: 179.99858925498344\n",
            "No\n",
            "Mean Squared Error: 179.99858925498344\n",
            "No\n",
            "Mean Squared Error: 179.99858925498344\n",
            "No\n",
            "Mean Squared Error: 179.99858925498344\n",
            "True\n"
          ]
        },
        {
          "output_type": "stream",
          "name": "stderr",
          "text": [
            "\r 12%|█▏        | 12/100 [00:28<02:58,  2.03s/it]"
          ]
        },
        {
          "output_type": "stream",
          "name": "stdout",
          "text": [
            "Yes\n",
            "Mean Squared Error: 179.99858925498344\n",
            "No\n",
            "Mean Squared Error: 472.09874230899254\n",
            "No\n",
            "Mean Squared Error: 472.09874230899254\n",
            "No\n",
            "Mean Squared Error: 472.09874230899254\n",
            "Yes\n",
            "Mean Squared Error: 472.09874230899254\n",
            "No\n",
            "Mean Squared Error: 472.09874230899254\n",
            "No\n",
            "Mean Squared Error: 472.09874230899254\n",
            "No\n"
          ]
        },
        {
          "output_type": "stream",
          "name": "stderr",
          "text": [
            "\r 13%|█▎        | 13/100 [00:30<03:02,  2.10s/it]"
          ]
        },
        {
          "output_type": "stream",
          "name": "stdout",
          "text": [
            "Mean Squared Error: 472.09874230899254\n",
            "True\n",
            "Yes\n",
            "Cannot set a DataFrame with multiple columns to the single column MA\n",
            "Mean Squared Error: 1149.3421444322744\n",
            "Yes\n",
            "Mean Squared Error: 1149.3421444322744\n",
            "True\n",
            "Yes\n",
            "Mean Squared Error: 1149.3421444322744\n",
            "No\n",
            "Mean Squared Error: 1149.3421444322744\n",
            "No\n",
            "Mean Squared Error: 1149.3421444322744\n",
            "True\n",
            "Yes\n",
            "Mean Squared Error: 1149.3421444322744\n",
            "No\n"
          ]
        },
        {
          "output_type": "stream",
          "name": "stderr",
          "text": [
            "\r 15%|█▌        | 15/100 [00:33<02:23,  1.69s/it]"
          ]
        },
        {
          "output_type": "stream",
          "name": "stdout",
          "text": [
            "Mean Squared Error: 1149.3421444322744\n",
            "No\n",
            "Mean Squared Error: 39507.63090565987\n",
            "Yes\n",
            "Mean Squared Error: 39507.63090565987\n",
            "No\n",
            "Mean Squared Error: 39507.63090565987\n",
            "No\n",
            "Mean Squared Error: 39507.63090565987\n",
            "No\n",
            "Mean Squared Error: 39507.63090565987\n",
            "No\n",
            "Mean Squared Error: 39507.63090565987\n",
            "No\n"
          ]
        },
        {
          "output_type": "stream",
          "name": "stderr",
          "text": [
            "\r 16%|█▌        | 16/100 [00:36<02:58,  2.13s/it]"
          ]
        },
        {
          "output_type": "stream",
          "name": "stdout",
          "text": [
            "Mean Squared Error: 39507.63090565987\n",
            "No\n",
            "cannot unpack non-iterable NoneType object\n",
            "Mean Squared Error: 7612.81398618438\n",
            "No\n",
            "Mean Squared Error: 7612.81398618438\n",
            "Yes\n",
            "Mean Squared Error: 7612.81398618438\n",
            "No\n",
            "Mean Squared Error: 7612.81398618438\n",
            "No\n",
            "Mean Squared Error: 7612.81398618438\n",
            "True\n",
            "Yes\n",
            "Mean Squared Error: 7612.81398618438\n",
            "No\n"
          ]
        },
        {
          "output_type": "stream",
          "name": "stderr",
          "text": [
            "\r 17%|█▋        | 17/100 [00:39<03:04,  2.23s/it]"
          ]
        },
        {
          "output_type": "stream",
          "name": "stdout",
          "text": [
            "Mean Squared Error: 7612.81398618438\n",
            "True\n",
            "Yes\n",
            "Mean Squared Error: 12090.292281690612\n",
            "Yes\n",
            "Mean Squared Error: 12090.292281690612\n",
            "No\n",
            "Mean Squared Error: 12090.292281690612\n",
            "No\n",
            "Mean Squared Error: 12090.292281690612\n",
            "No\n",
            "Mean Squared Error: 12090.292281690612\n",
            "True\n",
            "Yes\n",
            "Mean Squared Error: 12090.292281690612\n",
            "True\n",
            "Yes\n"
          ]
        },
        {
          "output_type": "stream",
          "name": "stderr",
          "text": [
            "\r 18%|█▊        | 18/100 [00:41<03:07,  2.29s/it]"
          ]
        },
        {
          "output_type": "stream",
          "name": "stdout",
          "text": [
            "Mean Squared Error: 12090.292281690612\n",
            "No\n",
            "Mean Squared Error: 7.324438999883771\n",
            "Yes\n",
            "Mean Squared Error: 7.324438999883771\n",
            "True\n",
            "Yes\n",
            "Mean Squared Error: 7.324438999883771\n",
            "True\n",
            "Yes\n",
            "Mean Squared Error: 7.324438999883771\n",
            "True\n",
            "Yes\n",
            "Mean Squared Error: 7.324438999883771\n",
            "No\n",
            "Mean Squared Error: 7.324438999883771\n",
            "True\n",
            "Yes\n"
          ]
        },
        {
          "output_type": "stream",
          "name": "stderr",
          "text": [
            "\r 19%|█▉        | 19/100 [00:44<03:22,  2.50s/it]"
          ]
        },
        {
          "output_type": "stream",
          "name": "stdout",
          "text": [
            "Mean Squared Error: 7.324438999883771\n",
            "True\n",
            "Yes\n",
            "Mean Squared Error: 445.0663642575118\n",
            "Yes\n",
            "Mean Squared Error: 445.0663642575118\n",
            "True\n",
            "Yes\n",
            "Mean Squared Error: 445.0663642575118\n",
            "No\n",
            "Mean Squared Error: 445.0663642575118\n",
            "No\n",
            "Mean Squared Error: 445.0663642575118\n",
            "True\n",
            "Yes\n",
            "Mean Squared Error: 445.0663642575118\n",
            "No\n"
          ]
        },
        {
          "output_type": "stream",
          "name": "stderr",
          "text": [
            "\r 20%|██        | 20/100 [00:48<03:56,  2.95s/it]"
          ]
        },
        {
          "output_type": "stream",
          "name": "stdout",
          "text": [
            "Mean Squared Error: 445.0663642575118\n",
            "No\n",
            "Mean Squared Error: 329.80924892086875\n",
            "Yes\n",
            "Mean Squared Error: 329.80924892086875\n",
            "No\n",
            "Mean Squared Error: 329.80924892086875\n",
            "No\n",
            "Mean Squared Error: 329.80924892086875\n",
            "No\n",
            "Mean Squared Error: 329.80924892086875\n",
            "No\n",
            "Mean Squared Error: 329.80924892086875\n",
            "No\n"
          ]
        },
        {
          "output_type": "stream",
          "name": "stderr",
          "text": [
            "\r 21%|██        | 21/100 [00:50<03:33,  2.71s/it]"
          ]
        },
        {
          "output_type": "stream",
          "name": "stdout",
          "text": [
            "Mean Squared Error: 329.80924892086875\n",
            "No\n",
            "cannot unpack non-iterable NoneType object\n",
            "Mean Squared Error: 48.76310924258113\n",
            "Yes\n",
            "Mean Squared Error: 48.76310924258113\n",
            "No\n",
            "Mean Squared Error: 48.76310924258113\n",
            "No\n",
            "Mean Squared Error: 48.76310924258113\n",
            "No\n",
            "Mean Squared Error: 48.76310924258113\n",
            "No\n",
            "Mean Squared Error: 48.76310924258113\n",
            "No\n"
          ]
        },
        {
          "output_type": "stream",
          "name": "stderr",
          "text": [
            "\r 22%|██▏       | 22/100 [00:53<03:17,  2.53s/it]"
          ]
        },
        {
          "output_type": "stream",
          "name": "stdout",
          "text": [
            "Mean Squared Error: 48.76310924258113\n",
            "No\n",
            "cannot unpack non-iterable NoneType object\n",
            "Mean Squared Error: 1759.3010726332664\n",
            "Yes\n",
            "Mean Squared Error: 1759.3010726332664\n",
            "No\n",
            "Mean Squared Error: 1759.3010726332664\n",
            "No\n",
            "Mean Squared Error: 1759.3010726332664\n",
            "No\n",
            "Mean Squared Error: 1759.3010726332664\n",
            "True\n",
            "Yes\n"
          ]
        },
        {
          "output_type": "stream",
          "name": "stderr",
          "text": [
            "\r 23%|██▎       | 23/100 [00:55<03:10,  2.47s/it]"
          ]
        },
        {
          "output_type": "stream",
          "name": "stdout",
          "text": [
            "Mean Squared Error: 1759.3010726332664\n",
            "No\n",
            "Mean Squared Error: 1759.3010726332664\n",
            "No\n",
            "Mean Squared Error: 10.739381972122382\n",
            "Yes\n",
            "Mean Squared Error: 10.739381972122382\n",
            "No\n",
            "Mean Squared Error: 10.739381972122382\n",
            "No\n",
            "Mean Squared Error: 10.739381972122382\n",
            "True\n",
            "Yes\n",
            "Mean Squared Error: 10.739381972122382\n",
            "No\n",
            "Mean Squared Error: 10.739381972122382\n",
            "True\n",
            "Yes\n"
          ]
        },
        {
          "output_type": "stream",
          "name": "stderr",
          "text": [
            "\r 24%|██▍       | 24/100 [00:57<03:07,  2.47s/it]"
          ]
        },
        {
          "output_type": "stream",
          "name": "stdout",
          "text": [
            "Mean Squared Error: 10.739381972122382\n",
            "No\n",
            "Mean Squared Error: 97.06114339684135\n",
            "Yes\n",
            "Mean Squared Error: 97.06114339684135\n",
            "No\n",
            "Mean Squared Error: 97.06114339684135\n",
            "No\n",
            "Mean Squared Error: 97.06114339684135\n",
            "True\n",
            "Yes\n",
            "Mean Squared Error: 97.06114339684135\n",
            "No\n",
            "Mean Squared Error: 97.06114339684135\n",
            "True\n",
            "Yes\n"
          ]
        },
        {
          "output_type": "stream",
          "name": "stderr",
          "text": [
            "\r 25%|██▌       | 25/100 [01:01<03:31,  2.81s/it]"
          ]
        },
        {
          "output_type": "stream",
          "name": "stdout",
          "text": [
            "Mean Squared Error: 97.06114339684135\n",
            "No\n",
            "Mean Squared Error: 82502.64816286103\n",
            "Yes\n",
            "Mean Squared Error: 82502.64816286103\n",
            "No\n",
            "Mean Squared Error: 82502.64816286103\n",
            "No\n",
            "Mean Squared Error: 82502.64816286103\n",
            "True\n",
            "Yes\n",
            "Mean Squared Error: 82502.64816286103\n",
            "No\n"
          ]
        },
        {
          "output_type": "stream",
          "name": "stderr",
          "text": [
            "\r 26%|██▌       | 26/100 [01:03<03:12,  2.60s/it]"
          ]
        },
        {
          "output_type": "stream",
          "name": "stdout",
          "text": [
            "Mean Squared Error: 82502.64816286103\n",
            "No\n",
            "Mean Squared Error: 82502.64816286103\n",
            "No\n",
            "Mean Squared Error: 486.91596334336896\n",
            "No\n",
            "Mean Squared Error: 486.91596334336896\n",
            "No\n",
            "Mean Squared Error: 486.91596334336896\n",
            "No\n",
            "Mean Squared Error: 486.91596334336896\n",
            "No\n",
            "Mean Squared Error: 486.91596334336896\n",
            "No\n",
            "Mean Squared Error: 486.91596334336896\n",
            "No\n"
          ]
        },
        {
          "output_type": "stream",
          "name": "stderr",
          "text": [
            "\r 27%|██▋       | 27/100 [01:04<02:34,  2.12s/it]"
          ]
        },
        {
          "output_type": "stream",
          "name": "stdout",
          "text": [
            "Mean Squared Error: 486.91596334336896\n",
            "No\n",
            "cannot unpack non-iterable NoneType object\n",
            "Mean Squared Error: 16726.546068944714\n",
            "Yes\n",
            "Mean Squared Error: 16726.546068944714\n",
            "No\n",
            "Mean Squared Error: 16726.546068944714\n",
            "No\n",
            "Mean Squared Error: 16726.546068944714\n",
            "No\n",
            "Mean Squared Error: 16726.546068944714\n",
            "No\n",
            "Mean Squared Error: 16726.546068944714\n",
            "No\n"
          ]
        },
        {
          "output_type": "stream",
          "name": "stderr",
          "text": [
            "\r 28%|██▊       | 28/100 [01:06<02:35,  2.16s/it]"
          ]
        },
        {
          "output_type": "stream",
          "name": "stdout",
          "text": [
            "Mean Squared Error: 16726.546068944714\n",
            "True\n",
            "Yes\n",
            "Mean Squared Error: 51552.67479627179\n",
            "No\n",
            "Mean Squared Error: 51552.67479627179\n",
            "No\n",
            "Mean Squared Error: 51552.67479627179\n",
            "No\n",
            "Mean Squared Error: 51552.67479627179\n",
            "No\n",
            "Mean Squared Error: 51552.67479627179\n",
            "No\n",
            "Mean Squared Error: 51552.67479627179\n",
            "No\n"
          ]
        },
        {
          "output_type": "stream",
          "name": "stderr",
          "text": [
            "\r 29%|██▉       | 29/100 [01:07<02:08,  1.81s/it]"
          ]
        },
        {
          "output_type": "stream",
          "name": "stdout",
          "text": [
            "Mean Squared Error: 51552.67479627179\n",
            "No\n",
            "cannot unpack non-iterable NoneType object\n",
            "Mean Squared Error: 18531.236752320692\n",
            "Yes\n",
            "Mean Squared Error: 18531.236752320692\n",
            "No\n",
            "Mean Squared Error: 18531.236752320692\n",
            "No\n",
            "Mean Squared Error: 18531.236752320692\n",
            "No\n",
            "Mean Squared Error: 18531.236752320692\n",
            "No\n",
            "Mean Squared Error: 18531.236752320692\n",
            "True\n"
          ]
        },
        {
          "output_type": "stream",
          "name": "stderr",
          "text": [
            "\r 30%|███       | 30/100 [01:09<02:11,  1.88s/it]"
          ]
        },
        {
          "output_type": "stream",
          "name": "stdout",
          "text": [
            "Yes\n",
            "Mean Squared Error: 18531.236752320692\n",
            "No\n",
            "Mean Squared Error: 44837.220285055446\n",
            "No\n",
            "Mean Squared Error: 44837.220285055446\n",
            "No\n",
            "Mean Squared Error: 44837.220285055446\n",
            "No\n",
            "Mean Squared Error: 44837.220285055446\n",
            "No\n",
            "Mean Squared Error: 44837.220285055446\n",
            "No\n"
          ]
        },
        {
          "output_type": "stream",
          "name": "stderr",
          "text": [
            "\r 31%|███       | 31/100 [01:12<02:23,  2.08s/it]"
          ]
        },
        {
          "output_type": "stream",
          "name": "stdout",
          "text": [
            "Mean Squared Error: 44837.220285055446\n",
            "No\n",
            "Mean Squared Error: 44837.220285055446\n",
            "No\n",
            "cannot unpack non-iterable NoneType object\n",
            "Mean Squared Error: 11022.610705058547\n",
            "No\n",
            "Mean Squared Error: 11022.610705058547\n",
            "No\n",
            "Mean Squared Error: 11022.610705058547\n",
            "No\n",
            "Mean Squared Error: 11022.610705058547\n",
            "No\n",
            "Mean Squared Error: 11022.610705058547\n",
            "No\n",
            "Mean Squared Error: 11022.610705058547\n",
            "No\n"
          ]
        },
        {
          "output_type": "stream",
          "name": "stderr",
          "text": [
            "\r 32%|███▏      | 32/100 [01:13<01:58,  1.74s/it]"
          ]
        },
        {
          "output_type": "stream",
          "name": "stdout",
          "text": [
            "Mean Squared Error: 11022.610705058547\n",
            "No\n",
            "cannot unpack non-iterable NoneType object\n",
            "Mean Squared Error: 64.70378057211849\n",
            "Yes\n",
            "Mean Squared Error: 64.70378057211849\n",
            "True\n",
            "Yes\n",
            "Mean Squared Error: 64.70378057211849\n",
            "True\n",
            "Yes\n",
            "Mean Squared Error: 64.70378057211849\n",
            "No\n",
            "Mean Squared Error: 64.70378057211849\n",
            "No\n",
            "Mean Squared Error: 64.70378057211849\n",
            "True\n"
          ]
        },
        {
          "output_type": "stream",
          "name": "stderr",
          "text": [
            "\r 33%|███▎      | 33/100 [01:16<02:17,  2.05s/it]"
          ]
        },
        {
          "output_type": "stream",
          "name": "stdout",
          "text": [
            "Yes\n",
            "Mean Squared Error: 64.70378057211849\n",
            "No\n",
            "Mean Squared Error: 8.128469671448697\n",
            "Yes\n",
            "Mean Squared Error: 8.128469671448697\n",
            "True\n",
            "Yes\n",
            "Mean Squared Error: 8.128469671448697\n",
            "True\n",
            "Yes\n",
            "Mean Squared Error: 8.128469671448697\n",
            "No\n",
            "Mean Squared Error: 8.128469671448697\n",
            "True\n",
            "Yes\n",
            "Mean Squared Error: 8.128469671448697\n",
            "True\n",
            "Yes\n",
            "Mean Squared Error: 8.128469671448697\n",
            "True\n"
          ]
        },
        {
          "output_type": "stream",
          "name": "stderr",
          "text": [
            "\r 34%|███▍      | 34/100 [01:19<02:35,  2.35s/it]"
          ]
        },
        {
          "output_type": "stream",
          "name": "stdout",
          "text": [
            "Yes\n",
            "Mean Squared Error: 20.035755201329117\n",
            "Yes\n",
            "Mean Squared Error: 20.035755201329117\n",
            "True\n",
            "Yes\n",
            "Mean Squared Error: 20.035755201329117\n",
            "True\n",
            "Yes\n",
            "Mean Squared Error: 20.035755201329117\n",
            "True\n",
            "Yes\n",
            "Mean Squared Error: 20.035755201329117\n",
            "No\n",
            "Mean Squared Error: 20.035755201329117\n",
            "True\n",
            "Yes\n"
          ]
        },
        {
          "output_type": "stream",
          "name": "stderr",
          "text": [
            "\r 35%|███▌      | 35/100 [01:22<02:44,  2.53s/it]"
          ]
        },
        {
          "output_type": "stream",
          "name": "stdout",
          "text": [
            "Mean Squared Error: 20.035755201329117\n",
            "True\n",
            "Yes\n",
            "Mean Squared Error: 49075.26257380166\n",
            "No\n",
            "Mean Squared Error: 49075.26257380166\n",
            "No\n",
            "Mean Squared Error: 49075.26257380166\n",
            "No\n",
            "Mean Squared Error: 49075.26257380166\n",
            "No\n",
            "Mean Squared Error: 49075.26257380166\n",
            "No\n"
          ]
        },
        {
          "output_type": "stream",
          "name": "stderr",
          "text": [
            "\r 36%|███▌      | 36/100 [01:24<02:39,  2.50s/it]"
          ]
        },
        {
          "output_type": "stream",
          "name": "stdout",
          "text": [
            "Mean Squared Error: 49075.26257380166\n",
            "No\n",
            "Mean Squared Error: 49075.26257380166\n",
            "No\n",
            "cannot unpack non-iterable NoneType object\n",
            "Mean Squared Error: 4588.888102691798\n",
            "Yes\n",
            "Mean Squared Error: 4588.888102691798\n",
            "True\n",
            "Yes\n",
            "Mean Squared Error: 4588.888102691798\n",
            "No\n",
            "Mean Squared Error: 4588.888102691798\n",
            "No\n",
            "Mean Squared Error: 4588.888102691798\n",
            "True\n",
            "Yes\n",
            "Mean Squared Error: 4588.888102691798\n",
            "True\n",
            "Yes\n",
            "Mean Squared Error: 4588.888102691798\n",
            "True\n"
          ]
        },
        {
          "output_type": "stream",
          "name": "stderr",
          "text": [
            "\r 37%|███▋      | 37/100 [01:27<02:44,  2.61s/it]"
          ]
        },
        {
          "output_type": "stream",
          "name": "stdout",
          "text": [
            "Yes\n",
            "Mean Squared Error: 177.02767166403038\n",
            "No\n",
            "Mean Squared Error: 177.02767166403038\n",
            "No\n",
            "Mean Squared Error: 177.02767166403038\n",
            "No\n",
            "Mean Squared Error: 177.02767166403038\n",
            "No\n",
            "Mean Squared Error: 177.02767166403038\n",
            "No\n",
            "Mean Squared Error: 177.02767166403038\n",
            "No\n",
            "Mean Squared Error: "
          ]
        },
        {
          "output_type": "stream",
          "name": "stderr",
          "text": [
            "\r 38%|███▊      | 38/100 [01:28<02:10,  2.11s/it]"
          ]
        },
        {
          "output_type": "stream",
          "name": "stdout",
          "text": [
            "177.02767166403038\n",
            "No\n",
            "cannot unpack non-iterable NoneType object\n",
            "Mean Squared Error: 38050.90977631645\n",
            "Yes\n",
            "Mean Squared Error: 38050.90977631645\n",
            "True\n",
            "Yes\n",
            "Mean Squared Error: 38050.90977631645\n",
            "No\n",
            "Mean Squared Error: 38050.90977631645\n",
            "No\n",
            "Mean Squared Error: 38050.90977631645\n",
            "No\n"
          ]
        },
        {
          "output_type": "stream",
          "name": "stderr",
          "text": [
            "\r 39%|███▉      | 39/100 [01:30<02:12,  2.17s/it]"
          ]
        },
        {
          "output_type": "stream",
          "name": "stdout",
          "text": [
            "Mean Squared Error: 38050.90977631645\n",
            "No\n",
            "Mean Squared Error: 38050.90977631645\n",
            "No\n",
            "Mean Squared Error: 33.56870391190846\n",
            "No\n",
            "Mean Squared Error: 33.56870391190846\n",
            "No\n",
            "Mean Squared Error: 33.56870391190846\n",
            "Yes\n",
            "Mean Squared Error: 33.56870391190846\n",
            "True\n",
            "Yes\n",
            "Mean Squared Error: 33.56870391190846\n",
            "No\n",
            "Mean Squared Error: 33.56870391190846\n",
            "True\n",
            "Yes\n"
          ]
        },
        {
          "output_type": "stream",
          "name": "stderr",
          "text": [
            "\r 40%|████      | 40/100 [01:32<02:10,  2.17s/it]"
          ]
        },
        {
          "output_type": "stream",
          "name": "stdout",
          "text": [
            "Mean Squared Error: 33.56870391190846\n",
            "No\n",
            "Mean Squared Error: 67.89353773025792\n",
            "Yes\n",
            "Mean Squared Error: 67.89353773025792\n",
            "No\n",
            "Mean Squared Error: 67.89353773025792\n",
            "True\n",
            "Yes\n",
            "Mean Squared Error: 67.89353773025792\n",
            "True\n",
            "Yes\n",
            "Mean Squared Error: 67.89353773025792\n",
            "No\n",
            "Mean Squared Error: 67.89353773025792\n",
            "True\n",
            "Yes\n"
          ]
        },
        {
          "output_type": "stream",
          "name": "stderr",
          "text": [
            "\r 41%|████      | 41/100 [01:36<02:38,  2.69s/it]"
          ]
        },
        {
          "output_type": "stream",
          "name": "stdout",
          "text": [
            "Mean Squared Error: 67.89353773025792\n",
            "No\n",
            "Mean Squared Error: 22.12788569249044\n",
            "Yes\n",
            "Mean Squared Error: 22.12788569249044\n",
            "No\n",
            "Mean Squared Error: 22.12788569249044\n",
            "No\n",
            "Mean Squared Error: 22.12788569249044\n",
            "No\n",
            "Mean Squared Error: 22.12788569249044\n",
            "True\n",
            "Yes\n",
            "Mean Squared Error: 22.12788569249044\n",
            "No\n",
            "Mean Squared Error: 22.12788569249044\n",
            "True\n"
          ]
        },
        {
          "output_type": "stream",
          "name": "stderr",
          "text": [
            "\r 42%|████▏     | 42/100 [01:39<02:33,  2.65s/it]"
          ]
        },
        {
          "output_type": "stream",
          "name": "stdout",
          "text": [
            "Yes\n",
            "Mean Squared Error: 30.82375084925017\n",
            "Yes\n",
            "Mean Squared Error: 30.82375084925017\n",
            "No\n",
            "Mean Squared Error: 30.82375084925017\n",
            "No\n",
            "Mean Squared Error: 30.82375084925017\n",
            "True\n",
            "Yes\n",
            "Mean Squared Error: 30.82375084925017\n",
            "No\n",
            "Mean Squared Error: 30.82375084925017\n",
            "True\n",
            "Yes\n"
          ]
        },
        {
          "output_type": "stream",
          "name": "stderr",
          "text": [
            "\r 43%|████▎     | 43/100 [01:41<02:26,  2.57s/it]"
          ]
        },
        {
          "output_type": "stream",
          "name": "stdout",
          "text": [
            "Mean Squared Error: 30.82375084925017\n",
            "No\n",
            "Mean Squared Error: 537.8278771673075\n",
            "Yes\n",
            "Mean Squared Error: 537.8278771673075\n",
            "True\n",
            "Yes\n",
            "Mean Squared Error: 537.8278771673075\n",
            "True\n",
            "Yes\n",
            "Mean Squared Error: 537.8278771673075\n",
            "True\n",
            "Yes\n",
            "Mean Squared Error: 537.8278771673075\n",
            "No\n"
          ]
        },
        {
          "output_type": "stream",
          "name": "stderr",
          "text": [
            "\r 44%|████▍     | 44/100 [01:44<02:24,  2.58s/it]"
          ]
        },
        {
          "output_type": "stream",
          "name": "stdout",
          "text": [
            "Mean Squared Error: 537.8278771673075\n",
            "No\n",
            "Mean Squared Error: 537.8278771673075\n",
            "No\n",
            "Mean Squared Error: 47.56537290417843\n",
            "Yes\n",
            "Mean Squared Error: 47.56537290417843\n",
            "No\n",
            "Mean Squared Error: 47.56537290417843\n",
            "No\n",
            "Mean Squared Error: 47.56537290417843\n",
            "True\n",
            "Yes\n",
            "Mean Squared Error: 47.56537290417843\n",
            "True\n",
            "Yes\n",
            "Mean Squared Error: 47.56537290417843\n",
            "No\n"
          ]
        },
        {
          "output_type": "stream",
          "name": "stderr",
          "text": [
            "\r 45%|████▌     | 45/100 [01:46<02:21,  2.58s/it]"
          ]
        },
        {
          "output_type": "stream",
          "name": "stdout",
          "text": [
            "Mean Squared Error: 47.56537290417843\n",
            "No\n",
            "Mean Squared Error: 1617.4108010561629\n",
            "Yes\n",
            "Mean Squared Error: 1617.4108010561629\n",
            "No\n",
            "Mean Squared Error: 1617.4108010561629\n",
            "No\n",
            "Mean Squared Error: 1617.4108010561629\n",
            "True\n",
            "Yes\n",
            "Mean Squared Error: 1617.4108010561629\n",
            "No\n",
            "Mean Squared Error: 1617.4108010561629\n",
            "True\n",
            "Yes\n"
          ]
        },
        {
          "output_type": "stream",
          "name": "stderr",
          "text": [
            "\r 46%|████▌     | 46/100 [01:50<02:40,  2.96s/it]"
          ]
        },
        {
          "output_type": "stream",
          "name": "stdout",
          "text": [
            "Mean Squared Error: 1617.4108010561629\n",
            "True\n",
            "Yes\n",
            "Mean Squared Error: 38.61974110302976\n",
            "Yes\n",
            "Mean Squared Error: 38.61974110302976\n",
            "No\n",
            "Mean Squared Error: 38.61974110302976\n",
            "True\n",
            "Yes\n",
            "Mean Squared Error: 38.61974110302976\n",
            "No\n",
            "Mean Squared Error: 38.61974110302976\n",
            "No\n",
            "Mean Squared Error: 38.61974110302976\n",
            "True\n",
            "Yes\n"
          ]
        },
        {
          "output_type": "stream",
          "name": "stderr",
          "text": [
            "\r 47%|████▋     | 47/100 [01:53<02:29,  2.82s/it]"
          ]
        },
        {
          "output_type": "stream",
          "name": "stdout",
          "text": [
            "Mean Squared Error: 38.61974110302976\n",
            "No\n",
            "Mean Squared Error: 1136.3846382024612\n",
            "Yes\n",
            "Mean Squared Error: 1136.3846382024612\n",
            "True\n",
            "Yes\n",
            "Mean Squared Error: 1136.3846382024612\n",
            "True\n",
            "Yes\n",
            "Mean Squared Error: 1136.3846382024612\n",
            "True\n",
            "Yes\n",
            "Mean Squared Error: 1136.3846382024612\n",
            "True\n",
            "Yes\n",
            "Mean Squared Error: 1136.3846382024612\n",
            "No\n"
          ]
        },
        {
          "output_type": "stream",
          "name": "stderr",
          "text": [
            "\r 48%|████▊     | 48/100 [01:55<02:26,  2.81s/it]"
          ]
        },
        {
          "output_type": "stream",
          "name": "stdout",
          "text": [
            "Mean Squared Error: 1136.3846382024612\n",
            "No\n",
            "Mean Squared Error: 54227.078525796904\n",
            "Yes\n",
            "Mean Squared Error: 54227.078525796904\n",
            "No\n",
            "Mean Squared Error: 54227.078525796904\n",
            "No\n",
            "Mean Squared Error: 54227.078525796904\n",
            "No\n"
          ]
        },
        {
          "output_type": "stream",
          "name": "stderr",
          "text": [
            "\r 49%|████▉     | 49/100 [01:58<02:11,  2.58s/it]"
          ]
        },
        {
          "output_type": "stream",
          "name": "stdout",
          "text": [
            "Mean Squared Error: 54227.078525796904\n",
            "No\n",
            "Mean Squared Error: 54227.078525796904\n",
            "No\n",
            "Mean Squared Error: 54227.078525796904\n",
            "No\n",
            "cannot unpack non-iterable NoneType object\n",
            "Mean Squared Error: 4739.830609658606\n",
            "No\n",
            "Mean Squared Error: 4739.830609658606\n",
            "No\n",
            "Mean Squared Error: 4739.830609658606\n",
            "No\n",
            "Mean Squared Error: 4739.830609658606\n",
            "No\n",
            "Mean Squared Error: 4739.830609658606\n",
            "No\n",
            "Mean Squared Error: 4739.830609658606\n",
            "No\n"
          ]
        },
        {
          "output_type": "stream",
          "name": "stderr",
          "text": [
            "\r 50%|█████     | 50/100 [01:58<01:43,  2.08s/it]"
          ]
        },
        {
          "output_type": "stream",
          "name": "stdout",
          "text": [
            "Mean Squared Error: 4739.830609658606\n",
            "No\n",
            "cannot unpack non-iterable NoneType object\n",
            "Mean Squared Error: 148.1765231830491\n",
            "Yes\n",
            "Mean Squared Error: 148.1765231830491\n",
            "No\n",
            "Mean Squared Error: 148.1765231830491\n",
            "No\n",
            "Mean Squared Error: 148.1765231830491\n",
            "True\n",
            "Yes\n",
            "Mean Squared Error: 148.1765231830491\n",
            "True\n",
            "Yes\n",
            "Mean Squared Error: 148.1765231830491\n",
            "No\n"
          ]
        },
        {
          "output_type": "stream",
          "name": "stderr",
          "text": [
            "\r 51%|█████     | 51/100 [02:02<02:06,  2.59s/it]"
          ]
        },
        {
          "output_type": "stream",
          "name": "stdout",
          "text": [
            "Mean Squared Error: 148.1765231830491\n",
            "No\n",
            "Mean Squared Error: 2.8484298592925454\n",
            "No\n",
            "Mean Squared Error: 2.8484298592925454\n",
            "Yes\n",
            "Mean Squared Error: 2.8484298592925454\n",
            "True\n",
            "Yes\n",
            "Mean Squared Error: 2.8484298592925454\n",
            "No\n",
            "Mean Squared Error: 2.8484298592925454\n",
            "True\n",
            "Yes\n"
          ]
        },
        {
          "output_type": "stream",
          "name": "stderr",
          "text": [
            "\r 52%|█████▏    | 52/100 [02:05<02:02,  2.55s/it]"
          ]
        },
        {
          "output_type": "stream",
          "name": "stdout",
          "text": [
            "Mean Squared Error: 2.8484298592925454\n",
            "No\n",
            "Mean Squared Error: 2.8484298592925454\n",
            "No\n",
            "Mean Squared Error: 2298.2152831555663\n",
            "Yes\n",
            "Mean Squared Error: 2298.2152831555663\n",
            "No\n",
            "Mean Squared Error: 2298.2152831555663\n",
            "No\n",
            "Mean Squared Error: 2298.2152831555663\n",
            "No\n",
            "Mean Squared Error: 2298.2152831555663\n",
            "No\n",
            "Mean Squared Error: 2298.2152831555663\n",
            "No\n"
          ]
        },
        {
          "output_type": "stream",
          "name": "stderr",
          "text": [
            "\r 53%|█████▎    | 53/100 [02:07<01:54,  2.43s/it]"
          ]
        },
        {
          "output_type": "stream",
          "name": "stdout",
          "text": [
            "Mean Squared Error: 2298.2152831555663\n",
            "No\n",
            "cannot unpack non-iterable NoneType object\n",
            "Mean Squared Error: 15.97933331522485\n",
            "Yes\n",
            "Mean Squared Error: 15.97933331522485\n",
            "True\n",
            "Yes\n",
            "Mean Squared Error: 15.97933331522485\n",
            "True\n",
            "Yes\n",
            "Mean Squared Error: 15.97933331522485\n",
            "True\n",
            "Yes\n",
            "Mean Squared Error: 15.97933331522485\n",
            "True\n",
            "Yes\n",
            "Mean Squared Error: 15.97933331522485\n",
            "No\n",
            "Mean Squared Error: 15.97933331522485\n",
            "No\n"
          ]
        },
        {
          "output_type": "stream",
          "name": "stderr",
          "text": [
            "\r 54%|█████▍    | 54/100 [02:09<01:52,  2.45s/it]"
          ]
        },
        {
          "output_type": "stream",
          "name": "stdout",
          "text": [
            "Mean Squared Error: 6.442185116937617\n",
            "Yes\n",
            "Mean Squared Error: 6.442185116937617\n",
            "No\n",
            "Mean Squared Error: 6.442185116937617\n",
            "True\n",
            "Yes\n",
            "Mean Squared Error: 6.442185116937617\n",
            "True\n",
            "Yes\n",
            "Mean Squared Error: 6.442185116937617\n",
            "No\n",
            "Mean Squared Error: 6.442185116937617\n",
            "True\n",
            "Yes\n"
          ]
        },
        {
          "output_type": "stream",
          "name": "stderr",
          "text": [
            "\r 55%|█████▌    | 55/100 [02:14<02:14,  2.99s/it]"
          ]
        },
        {
          "output_type": "stream",
          "name": "stdout",
          "text": [
            "Mean Squared Error: 6.442185116937617\n",
            "No\n",
            "Mean Squared Error: 4.9470423450435534\n",
            "Yes\n",
            "Mean Squared Error: 4.9470423450435534\n",
            "No\n",
            "Mean Squared Error: 4.9470423450435534\n",
            "No\n",
            "Mean Squared Error: 4.9470423450435534\n",
            "No\n",
            "Mean Squared Error: 4.9470423450435534\n",
            "No\n",
            "Mean Squared Error: 4.9470423450435534\n",
            "No\n"
          ]
        },
        {
          "output_type": "stream",
          "name": "stderr",
          "text": [
            "\r 56%|█████▌    | 56/100 [02:16<02:01,  2.76s/it]"
          ]
        },
        {
          "output_type": "stream",
          "name": "stdout",
          "text": [
            "Mean Squared Error: 4.9470423450435534\n",
            "True\n",
            "Yes\n",
            "Mean Squared Error: 6970.164504891726\n",
            "No\n",
            "Mean Squared Error: 6970.164504891726\n",
            "No\n",
            "Mean Squared Error: 6970.164504891726\n",
            "No\n",
            "Mean Squared Error: 6970.164504891726\n",
            "No\n",
            "Mean Squared Error: 6970.164504891726\n",
            "No\n",
            "Mean Squared Error: 6970.164504891726\n",
            "No\n"
          ]
        },
        {
          "output_type": "stream",
          "name": "stderr",
          "text": [
            "\r 57%|█████▋    | 57/100 [02:17<01:35,  2.22s/it]"
          ]
        },
        {
          "output_type": "stream",
          "name": "stdout",
          "text": [
            "Mean Squared Error: 6970.164504891726\n",
            "No\n",
            "cannot unpack non-iterable NoneType object\n",
            "Mean Squared Error: 3.909191594778095\n",
            "Yes\n",
            "Mean Squared Error: 3.909191594778095\n",
            "No\n",
            "Mean Squared Error: 3.909191594778095\n",
            "True\n",
            "Yes\n",
            "Mean Squared Error: 3.909191594778095\n",
            "True\n",
            "Yes\n",
            "Mean Squared Error: 3.909191594778095\n",
            "True\n",
            "Yes\n",
            "Mean Squared Error: 3.909191594778095\n",
            "True\n",
            "Yes\n"
          ]
        },
        {
          "output_type": "stream",
          "name": "stderr",
          "text": [
            "\r 58%|█████▊    | 58/100 [02:19<01:33,  2.23s/it]"
          ]
        },
        {
          "output_type": "stream",
          "name": "stdout",
          "text": [
            "Mean Squared Error: 3.909191594778095\n",
            "single positional indexer is out-of-bounds\n",
            "Mean Squared Error: 1045958.6241647559\n",
            "No\n",
            "Mean Squared Error: 1045958.6241647559\n",
            "No\n",
            "Mean Squared Error: 1045958.6241647559\n",
            "No\n",
            "Mean Squared Error: 1045958.6241647559\n",
            "No\n",
            "Mean Squared Error: 1045958.6241647559\n",
            "No\n"
          ]
        },
        {
          "output_type": "stream",
          "name": "stderr",
          "text": [
            "\r 59%|█████▉    | 59/100 [02:20<01:15,  1.84s/it]"
          ]
        },
        {
          "output_type": "stream",
          "name": "stdout",
          "text": [
            "Mean Squared Error: 1045958.6241647559\n",
            "No\n",
            "Mean Squared Error: 1045958.6241647559\n",
            "No\n",
            "cannot unpack non-iterable NoneType object\n",
            "Mean Squared Error: 19.164153167253566\n",
            "single positional indexer is out-of-bounds\n",
            "Mean Squared Error: 36.63412515459876\n",
            "Yes\n",
            "Mean Squared Error: 36.63412515459876\n",
            "No\n",
            "Mean Squared Error: 36.63412515459876\n",
            "No\n",
            "Mean Squared Error: 36.63412515459876\n",
            "True\n",
            "Yes\n",
            "Mean Squared Error: 36.63412515459876\n",
            "No\n",
            "Mean Squared Error: 36.63412515459876\n",
            "No\n",
            "Mean Squared Error: 36.63412515459876\n",
            "True\n"
          ]
        },
        {
          "output_type": "stream",
          "name": "stderr",
          "text": [
            "\r 61%|██████    | 61/100 [02:23<01:02,  1.59s/it]"
          ]
        },
        {
          "output_type": "stream",
          "name": "stdout",
          "text": [
            "Yes\n",
            "Mean Squared Error: 32486.393913636424\n",
            "Yes\n",
            "Mean Squared Error: 32486.393913636424\n",
            "No\n",
            "Mean Squared Error: 32486.393913636424\n",
            "No\n",
            "Mean Squared Error: 32486.393913636424\n",
            "True\n",
            "Yes\n",
            "Mean Squared Error: 32486.393913636424\n",
            "No\n",
            "Mean Squared Error: 32486.393913636424\n",
            "True\n",
            "Yes\n",
            "Mean Squared Error: 32486.393913636424\n",
            "True\n"
          ]
        },
        {
          "output_type": "stream",
          "name": "stderr",
          "text": [
            "\r 62%|██████▏   | 62/100 [02:27<01:24,  2.23s/it]"
          ]
        },
        {
          "output_type": "stream",
          "name": "stdout",
          "text": [
            "Yes\n",
            "Mean Squared Error: 2081.399030987783\n",
            "Yes\n",
            "Mean Squared Error: 2081.399030987783\n",
            "No\n",
            "Mean Squared Error: 2081.399030987783\n",
            "No\n",
            "Mean Squared Error: 2081.399030987783\n",
            "True\n",
            "Yes\n",
            "Mean Squared Error: 2081.399030987783\n",
            "True\n",
            "Yes\n",
            "Mean Squared Error: 2081.399030987783\n",
            "True\n"
          ]
        },
        {
          "output_type": "stream",
          "name": "stderr",
          "text": [
            "\r 63%|██████▎   | 63/100 [02:29<01:26,  2.34s/it]"
          ]
        },
        {
          "output_type": "stream",
          "name": "stdout",
          "text": [
            "Yes\n",
            "Mean Squared Error: 2081.399030987783\n",
            "No\n",
            "Mean Squared Error: 157.03631269562652\n",
            "Yes\n",
            "Mean Squared Error: 157.03631269562652\n",
            "No\n",
            "Mean Squared Error: 157.03631269562652\n",
            "True\n",
            "Yes\n",
            "Mean Squared Error: 157.03631269562652\n",
            "True\n",
            "Yes\n",
            "Mean Squared Error: 157.03631269562652\n",
            "True\n",
            "Yes\n",
            "Mean Squared Error: 157.03631269562652\n",
            "True\n",
            "Yes\n"
          ]
        },
        {
          "output_type": "stream",
          "name": "stderr",
          "text": [
            "\r 64%|██████▍   | 64/100 [02:32<01:24,  2.36s/it]"
          ]
        },
        {
          "output_type": "stream",
          "name": "stdout",
          "text": [
            "Mean Squared Error: 157.03631269562652\n",
            "No\n",
            "Mean Squared Error: 325.5118089643053\n",
            "No\n",
            "Mean Squared Error: 325.5118089643053\n",
            "No\n",
            "Mean Squared Error: 325.5118089643053\n",
            "No\n",
            "Mean Squared Error: 325.5118089643053\n",
            "Yes\n",
            "Mean Squared Error: 325.5118089643053\n",
            "No\n"
          ]
        },
        {
          "output_type": "stream",
          "name": "stderr",
          "text": [
            "\r 65%|██████▌   | 65/100 [02:34<01:19,  2.28s/it]"
          ]
        },
        {
          "output_type": "stream",
          "name": "stdout",
          "text": [
            "Mean Squared Error: 325.5118089643053\n",
            "No\n",
            "Mean Squared Error: 325.5118089643053\n",
            "No\n",
            "cannot unpack non-iterable NoneType object\n",
            "Mean Squared Error: 593.8938305705574\n",
            "Yes\n",
            "Mean Squared Error: 593.8938305705574\n",
            "True\n",
            "Yes\n",
            "Mean Squared Error: 593.8938305705574\n",
            "No\n",
            "Mean Squared Error: 593.8938305705574\n",
            "No\n",
            "Mean Squared Error: 593.8938305705574\n",
            "No\n",
            "Mean Squared Error: 593.8938305705574\n",
            "No\n"
          ]
        },
        {
          "output_type": "stream",
          "name": "stderr",
          "text": [
            "\r 66%|██████▌   | 66/100 [02:36<01:19,  2.35s/it]"
          ]
        },
        {
          "output_type": "stream",
          "name": "stdout",
          "text": [
            "Mean Squared Error: 593.8938305705574\n",
            "No\n",
            "Mean Squared Error: 1895.1243937775746\n",
            "Yes\n",
            "Mean Squared Error: 1895.1243937775746\n",
            "No\n",
            "Mean Squared Error: 1895.1243937775746\n",
            "True\n",
            "Yes\n",
            "Mean Squared Error: 1895.1243937775746\n",
            "No\n"
          ]
        },
        {
          "output_type": "stream",
          "name": "stderr",
          "text": [
            "\r 67%|██████▋   | 67/100 [02:40<01:25,  2.59s/it]"
          ]
        },
        {
          "output_type": "stream",
          "name": "stdout",
          "text": [
            "Mean Squared Error: 1895.1243937775746\n",
            "No\n",
            "Mean Squared Error: 1895.1243937775746\n",
            "No\n",
            "Mean Squared Error: 1895.1243937775746\n",
            "No\n",
            "Mean Squared Error: 38332.59446825658\n",
            "Yes\n",
            "Mean Squared Error: 38332.59446825658\n",
            "True\n",
            "Yes\n",
            "Mean Squared Error: 38332.59446825658\n",
            "No\n",
            "Mean Squared Error: 38332.59446825658\n",
            "True\n",
            "Yes\n",
            "Mean Squared Error: 38332.59446825658\n",
            "True\n",
            "Yes\n",
            "Mean Squared Error: 38332.59446825658\n",
            "True\n",
            "Yes\n"
          ]
        },
        {
          "output_type": "stream",
          "name": "stderr",
          "text": [
            "\r 68%|██████▊   | 68/100 [02:42<01:20,  2.51s/it]"
          ]
        },
        {
          "output_type": "stream",
          "name": "stdout",
          "text": [
            "Mean Squared Error: 38332.59446825658\n",
            "No\n",
            "Mean Squared Error: 4.144085550369198\n",
            "No\n",
            "Mean Squared Error: 4.144085550369198\n",
            "No\n",
            "Mean Squared Error: 4.144085550369198\n",
            "No\n",
            "Mean Squared Error: 4.144085550369198\n",
            "No\n",
            "Mean Squared Error: 4.144085550369198\n",
            "Yes\n",
            "Mean Squared Error: 4.144085550369198\n",
            "True\n"
          ]
        },
        {
          "output_type": "stream",
          "name": "stderr",
          "text": [
            "\r 69%|██████▉   | 69/100 [02:44<01:15,  2.43s/it]"
          ]
        },
        {
          "output_type": "stream",
          "name": "stdout",
          "text": [
            "Yes\n",
            "Mean Squared Error: 4.144085550369198\n",
            "No\n",
            "Mean Squared Error: 13.835899032187774\n",
            "No\n",
            "Mean Squared Error: 13.835899032187774\n",
            "No\n",
            "Mean Squared Error: 13.835899032187774\n",
            "Yes\n",
            "Mean Squared Error: 13.835899032187774\n",
            "True\n",
            "Yes\n",
            "Mean Squared Error: 13.835899032187774\n",
            "True\n",
            "Yes\n",
            "Mean Squared Error: 13.835899032187774\n",
            "True\n",
            "Yes\n",
            "Mean Squared Error: 13.835899032187774\n",
            "True\n"
          ]
        },
        {
          "output_type": "stream",
          "name": "stderr",
          "text": [
            "\r 70%|███████   | 70/100 [02:47<01:15,  2.53s/it]"
          ]
        },
        {
          "output_type": "stream",
          "name": "stdout",
          "text": [
            "Yes\n",
            "Mean Squared Error: 63.66976791837628\n",
            "Yes\n",
            "Mean Squared Error: 63.66976791837628\n",
            "True\n",
            "Yes\n",
            "Mean Squared Error: 63.66976791837628\n",
            "No\n",
            "Mean Squared Error: 63.66976791837628\n",
            "True\n",
            "Yes\n",
            "Mean Squared Error: 63.66976791837628\n",
            "True\n",
            "Yes\n",
            "Mean Squared Error: 63.66976791837628\n",
            "True\n"
          ]
        },
        {
          "output_type": "stream",
          "name": "stderr",
          "text": [
            "\r 71%|███████   | 71/100 [02:51<01:30,  3.12s/it]"
          ]
        },
        {
          "output_type": "stream",
          "name": "stdout",
          "text": [
            "Yes\n",
            "Mean Squared Error: 63.66976791837628\n",
            "No\n",
            "Mean Squared Error: 1757.356217018718\n",
            "Yes\n",
            "Mean Squared Error: 1757.356217018718\n",
            "True\n",
            "Yes\n",
            "Mean Squared Error: 1757.356217018718\n",
            "No\n",
            "Mean Squared Error: 1757.356217018718\n",
            "No\n",
            "Mean Squared Error: 1757.356217018718\n",
            "No\n"
          ]
        },
        {
          "output_type": "stream",
          "name": "stderr",
          "text": [
            "\r 72%|███████▏  | 72/100 [02:54<01:21,  2.91s/it]"
          ]
        },
        {
          "output_type": "stream",
          "name": "stdout",
          "text": [
            "Mean Squared Error: 1757.356217018718\n",
            "No\n",
            "Mean Squared Error: 1757.356217018718\n",
            "No\n",
            "Mean Squared Error: 9482.508008733663\n",
            "No\n",
            "Mean Squared Error: 9482.508008733663\n",
            "Yes\n",
            "Mean Squared Error: 9482.508008733663\n",
            "True\n",
            "Yes\n",
            "Mean Squared Error: 9482.508008733663\n",
            "No\n",
            "Mean Squared Error: 9482.508008733663\n",
            "True\n",
            "Yes\n",
            "Mean Squared Error: 9482.508008733663\n",
            "True\n",
            "Yes\n"
          ]
        },
        {
          "output_type": "stream",
          "name": "stderr",
          "text": [
            "\r 73%|███████▎  | 73/100 [02:57<01:17,  2.86s/it]"
          ]
        },
        {
          "output_type": "stream",
          "name": "stdout",
          "text": [
            "Mean Squared Error: 9482.508008733663\n",
            "No\n",
            "Mean Squared Error: 2602323.320286876\n",
            "Yes\n",
            "Mean Squared Error: 2602323.320286876\n",
            "No\n",
            "Mean Squared Error: 2602323.320286876\n",
            "No\n",
            "Mean Squared Error: 2602323.320286876\n",
            "No\n",
            "Mean Squared Error: 2602323.320286876\n",
            "No\n",
            "Mean Squared Error: 2602323.320286876\n",
            "No\n"
          ]
        },
        {
          "output_type": "stream",
          "name": "stderr",
          "text": [
            "\r 74%|███████▍  | 74/100 [02:59<01:08,  2.64s/it]"
          ]
        },
        {
          "output_type": "stream",
          "name": "stdout",
          "text": [
            "Mean Squared Error: 2602323.320286876\n",
            "No\n",
            "cannot unpack non-iterable NoneType object\n",
            "Mean Squared Error: 42706.69534642601\n",
            "No\n",
            "Mean Squared Error: 42706.69534642601\n",
            "No\n",
            "Mean Squared Error: 42706.69534642601\n",
            "No\n",
            "Mean Squared Error: 42706.69534642601\n",
            "No\n",
            "Mean Squared Error: 42706.69534642601\n",
            "No\n",
            "Mean Squared Error: 42706.69534642601\n",
            "No\n"
          ]
        },
        {
          "output_type": "stream",
          "name": "stderr",
          "text": [
            "\r 75%|███████▌  | 75/100 [03:00<00:53,  2.14s/it]"
          ]
        },
        {
          "output_type": "stream",
          "name": "stdout",
          "text": [
            "Mean Squared Error: 42706.69534642601\n",
            "No\n",
            "cannot unpack non-iterable NoneType object\n",
            "Mean Squared Error: 127783.1414013742\n",
            "No\n",
            "Mean Squared Error: 127783.1414013742\n",
            "No\n",
            "Mean Squared Error: 127783.1414013742\n",
            "No\n",
            "Mean Squared Error: 127783.1414013742\n",
            "No\n",
            "Mean Squared Error: 127783.1414013742\n",
            "No\n",
            "Mean Squared Error: 127783.1414013742\n",
            "No\n"
          ]
        },
        {
          "output_type": "stream",
          "name": "stderr",
          "text": [
            "\r 76%|███████▌  | 76/100 [03:01<00:44,  1.85s/it]"
          ]
        },
        {
          "output_type": "stream",
          "name": "stdout",
          "text": [
            "Mean Squared Error: 127783.1414013742\n",
            "No\n",
            "cannot unpack non-iterable NoneType object\n",
            "Mean Squared Error: 15.819483661797523\n",
            "Yes\n",
            "Mean Squared Error: 15.819483661797523\n",
            "No\n",
            "Mean Squared Error: 15.819483661797523\n",
            "No\n",
            "Mean Squared Error: 15.819483661797523\n",
            "True\n",
            "Yes\n",
            "Mean Squared Error: 15.819483661797523\n",
            "No\n",
            "Mean Squared Error: 15.819483661797523\n",
            "True\n",
            "Yes\n"
          ]
        },
        {
          "output_type": "stream",
          "name": "stderr",
          "text": [
            "\r 77%|███████▋  | 77/100 [03:05<00:56,  2.46s/it]"
          ]
        },
        {
          "output_type": "stream",
          "name": "stdout",
          "text": [
            "Mean Squared Error: 15.819483661797523\n",
            "True\n",
            "Yes\n",
            "Mean Squared Error: 3058.391362762451\n",
            "Yes\n",
            "Mean Squared Error: 3058.391362762451\n",
            "No\n",
            "Mean Squared Error: 3058.391362762451\n",
            "No\n",
            "Mean Squared Error: 3058.391362762451\n",
            "True\n",
            "Yes\n",
            "Mean Squared Error: 3058.391362762451\n",
            "True\n",
            "Yes\n",
            "Mean Squared Error: 3058.391362762451\n",
            "No\n"
          ]
        },
        {
          "output_type": "stream",
          "name": "stderr",
          "text": [
            "\r 78%|███████▊  | 78/100 [03:07<00:54,  2.46s/it]"
          ]
        },
        {
          "output_type": "stream",
          "name": "stdout",
          "text": [
            "Mean Squared Error: 3058.391362762451\n",
            "No\n",
            "Mean Squared Error: 24726.496973463894\n",
            "No\n",
            "Mean Squared Error: 24726.496973463894\n",
            "No\n",
            "Mean Squared Error: 24726.496973463894\n",
            "No\n",
            "Mean Squared Error: 24726.496973463894\n",
            "No\n",
            "Mean Squared Error: 24726.496973463894\n",
            "No\n",
            "Mean Squared Error: 24726.496973463894\n",
            "No\n",
            "Mean Squared Error: 24726.496973463894\n"
          ]
        },
        {
          "output_type": "stream",
          "name": "stderr",
          "text": [
            "\r 79%|███████▉  | 79/100 [03:09<00:49,  2.34s/it]"
          ]
        },
        {
          "output_type": "stream",
          "name": "stdout",
          "text": [
            "Yes\n",
            "cannot unpack non-iterable NoneType object\n",
            "Mean Squared Error: 13407.394878354538\n",
            "Yes\n",
            "Mean Squared Error: 13407.394878354538\n",
            "No\n",
            "Mean Squared Error: 13407.394878354538\n",
            "No\n",
            "Mean Squared Error: 13407.394878354538\n",
            "No\n",
            "Mean Squared Error: 13407.394878354538\n",
            "No\n",
            "Mean Squared Error: 13407.394878354538\n",
            "No\n"
          ]
        },
        {
          "output_type": "stream",
          "name": "stderr",
          "text": [
            "\r 80%|████████  | 80/100 [03:11<00:45,  2.27s/it]"
          ]
        },
        {
          "output_type": "stream",
          "name": "stdout",
          "text": [
            "Mean Squared Error: 13407.394878354538\n",
            "True\n",
            "Yes\n",
            "Mean Squared Error: 283.76163420033726\n",
            "No\n",
            "Mean Squared Error: 283.76163420033726\n",
            "No\n",
            "Mean Squared Error: 283.76163420033726\n",
            "No\n",
            "Mean Squared Error: 283.76163420033726\n",
            "Yes\n",
            "Mean Squared Error: 283.76163420033726\n",
            "No\n",
            "Mean Squared Error: 283.76163420033726\n"
          ]
        },
        {
          "output_type": "stream",
          "name": "stderr",
          "text": [
            "\r 81%|████████  | 81/100 [03:15<00:51,  2.70s/it]"
          ]
        },
        {
          "output_type": "stream",
          "name": "stdout",
          "text": [
            "No\n",
            "Mean Squared Error: 283.76163420033726\n",
            "No\n",
            "cannot unpack non-iterable NoneType object\n",
            "Cannot set a DataFrame with multiple columns to the single column MA\n",
            "Mean Squared Error: 4.64520900390767\n",
            "Yes\n",
            "Mean Squared Error: 4.64520900390767\n",
            "No\n",
            "Mean Squared Error: 4.64520900390767\n",
            "True\n",
            "Yes\n",
            "Mean Squared Error: 4.64520900390767\n",
            "True\n",
            "Yes\n",
            "Mean Squared Error: 4.64520900390767\n",
            "No\n",
            "Mean Squared Error: 4.64520900390767\n",
            "True\n"
          ]
        },
        {
          "output_type": "stream",
          "name": "stderr",
          "text": [
            "\r 83%|████████▎ | 83/100 [03:18<00:34,  2.05s/it]"
          ]
        },
        {
          "output_type": "stream",
          "name": "stdout",
          "text": [
            "Yes\n",
            "Mean Squared Error: 4.64520900390767\n",
            "No\n",
            "Mean Squared Error: 35.54882227701619\n",
            "No\n",
            "Mean Squared Error: 35.54882227701619\n",
            "No\n",
            "Mean Squared Error: 35.54882227701619\n",
            "Yes\n",
            "Mean Squared Error: 35.54882227701619\n",
            "True\n",
            "Yes\n",
            "Mean Squared Error: 35.54882227701619\n",
            "No\n",
            "Mean Squared Error: 35.54882227701619\n",
            "True\n",
            "Yes\n"
          ]
        },
        {
          "output_type": "stream",
          "name": "stderr",
          "text": [
            "\r 84%|████████▍ | 84/100 [03:20<00:35,  2.20s/it]"
          ]
        },
        {
          "output_type": "stream",
          "name": "stdout",
          "text": [
            "Mean Squared Error: 35.54882227701619\n",
            "True\n",
            "Yes\n",
            "Mean Squared Error: 2700.793878622023\n",
            "Yes\n",
            "Mean Squared Error: 2700.793878622023\n",
            "No\n",
            "Mean Squared Error: 2700.793878622023\n",
            "No\n",
            "Mean Squared Error: 2700.793878622023\n",
            "No\n",
            "Mean Squared Error: 2700.793878622023\n",
            "No\n",
            "Mean Squared Error: 2700.793878622023\n",
            "No\n"
          ]
        },
        {
          "output_type": "stream",
          "name": "stderr",
          "text": [
            "\r 85%|████████▌ | 85/100 [03:22<00:33,  2.20s/it]"
          ]
        },
        {
          "output_type": "stream",
          "name": "stdout",
          "text": [
            "Mean Squared Error: 2700.793878622023\n",
            "No\n",
            "cannot unpack non-iterable NoneType object\n",
            "Mean Squared Error: 55476.7531048773\n",
            "No\n",
            "Mean Squared Error: 55476.7531048773\n",
            "No\n",
            "Mean Squared Error: 55476.7531048773\n",
            "No\n",
            "Mean Squared Error: 55476.7531048773\n",
            "No\n",
            "Mean Squared Error: 55476.7531048773\n",
            "No\n",
            "Mean Squared Error: 55476.7531048773\n",
            "No\n"
          ]
        },
        {
          "output_type": "stream",
          "name": "stderr",
          "text": [
            "\r 86%|████████▌ | 86/100 [03:23<00:26,  1.88s/it]"
          ]
        },
        {
          "output_type": "stream",
          "name": "stdout",
          "text": [
            "Mean Squared Error: 55476.7531048773\n",
            "No\n",
            "cannot unpack non-iterable NoneType object\n",
            "Mean Squared Error: 4.695081682955564\n",
            "Yes\n",
            "Mean Squared Error: 4.695081682955564\n",
            "True\n",
            "Yes\n",
            "Mean Squared Error: 4.695081682955564\n",
            "No\n",
            "Mean Squared Error: 4.695081682955564\n",
            "No\n",
            "Mean Squared Error: 4.695081682955564\n",
            "True\n",
            "Yes\n",
            "Mean Squared Error: 4.695081682955564\n",
            "No\n"
          ]
        },
        {
          "output_type": "stream",
          "name": "stderr",
          "text": [
            "\r 87%|████████▋ | 87/100 [03:27<00:31,  2.42s/it]"
          ]
        },
        {
          "output_type": "stream",
          "name": "stdout",
          "text": [
            "Mean Squared Error: 4.695081682955564\n",
            "No\n",
            "Mean Squared Error: 258.4467156345449\n",
            "Yes\n",
            "Mean Squared Error: 258.4467156345449\n",
            "No\n",
            "Mean Squared Error: 258.4467156345449\n",
            "No\n",
            "Mean Squared Error: 258.4467156345449\n",
            "True\n",
            "Yes\n",
            "Mean Squared Error: 258.4467156345449\n",
            "No\n",
            "Mean Squared Error: 258.4467156345449\n",
            "True\n",
            "Yes\n"
          ]
        },
        {
          "output_type": "stream",
          "name": "stderr",
          "text": [
            "\r 88%|████████▊ | 88/100 [03:30<00:28,  2.36s/it]"
          ]
        },
        {
          "output_type": "stream",
          "name": "stdout",
          "text": [
            "Mean Squared Error: 258.4467156345449\n",
            "No\n",
            "Mean Squared Error: 529.0984592418779\n",
            "No\n",
            "Mean Squared Error: 529.0984592418779\n",
            "Yes\n",
            "Mean Squared Error: 529.0984592418779\n",
            "No\n",
            "Mean Squared Error: 529.0984592418779\n",
            "True\n",
            "Yes\n",
            "Mean Squared Error: 529.0984592418779\n",
            "No\n",
            "Mean Squared Error: 529.0984592418779\n",
            "No\n"
          ]
        },
        {
          "output_type": "stream",
          "name": "stderr",
          "text": [
            "\r 89%|████████▉ | 89/100 [03:32<00:26,  2.39s/it]"
          ]
        },
        {
          "output_type": "stream",
          "name": "stdout",
          "text": [
            "Mean Squared Error: 529.0984592418779\n",
            "True\n",
            "Yes\n",
            "Mean Squared Error: 835.8824568893083\n",
            "No\n",
            "Mean Squared Error: 835.8824568893083\n",
            "No\n",
            "Mean Squared Error: 835.8824568893083\n",
            "No\n",
            "Mean Squared Error: 835.8824568893083\n",
            "Yes\n",
            "Mean Squared Error: 835.8824568893083\n",
            "True\n",
            "Yes\n",
            "Mean Squared Error: 835.8824568893083\n",
            "True\n",
            "Yes\n",
            "Mean Squared Error: 835.8824568893083\n",
            "True\n"
          ]
        },
        {
          "output_type": "stream",
          "name": "stderr",
          "text": [
            "\r 90%|█████████ | 90/100 [03:35<00:24,  2.45s/it]"
          ]
        },
        {
          "output_type": "stream",
          "name": "stdout",
          "text": [
            "Yes\n",
            "Mean Squared Error: 373.499434016882\n",
            "Yes\n",
            "Mean Squared Error: 373.499434016882\n",
            "No\n",
            "Mean Squared Error: 373.499434016882\n",
            "No\n",
            "Mean Squared Error: 373.499434016882\n",
            "True\n",
            "Yes\n",
            "Mean Squared Error: 373.499434016882\n",
            "No\n",
            "Mean Squared Error: 373.499434016882\n",
            "No\n",
            "Mean Squared Error: 373.499434016882\n",
            "True\n"
          ]
        },
        {
          "output_type": "stream",
          "name": "stderr",
          "text": [
            "\r 91%|█████████ | 91/100 [03:37<00:22,  2.48s/it]"
          ]
        },
        {
          "output_type": "stream",
          "name": "stdout",
          "text": [
            "Yes\n",
            "Mean Squared Error: 7312.458743522355\n",
            "No\n",
            "Mean Squared Error: 7312.458743522355\n",
            "No\n",
            "Mean Squared Error: 7312.458743522355\n",
            "No\n",
            "Mean Squared Error: 7312.458743522355\n",
            "No\n",
            "Mean Squared Error: 7312.458743522355\n",
            "No\n",
            "Mean Squared Error: 7312.458743522355\n",
            "No\n",
            "Mean Squared Error: 7312.458743522355\n"
          ]
        },
        {
          "output_type": "stream",
          "name": "stderr",
          "text": [
            "\r 92%|█████████▏| 92/100 [03:40<00:21,  2.64s/it]"
          ]
        },
        {
          "output_type": "stream",
          "name": "stdout",
          "text": [
            "Yes\n",
            "cannot unpack non-iterable NoneType object\n",
            "Mean Squared Error: 4604196.623434854\n",
            "Yes\n",
            "Mean Squared Error: 4604196.623434854\n",
            "No\n",
            "Mean Squared Error: 4604196.623434854\n",
            "No\n",
            "Mean Squared Error: 4604196.623434854\n",
            "No\n",
            "Mean Squared Error: 4604196.623434854\n",
            "No\n",
            "Mean Squared Error: 4604196.623434854\n",
            "No\n",
            "Mean Squared Error: 4604196.623434854\n",
            "No"
          ]
        },
        {
          "output_type": "stream",
          "name": "stderr",
          "text": [
            "\r 93%|█████████▎| 93/100 [03:42<00:17,  2.47s/it]"
          ]
        },
        {
          "output_type": "stream",
          "name": "stdout",
          "text": [
            "\n",
            "cannot unpack non-iterable NoneType object\n",
            "Mean Squared Error: 162752.6595832123\n",
            "No\n",
            "Mean Squared Error: 162752.6595832123\n",
            "Yes\n",
            "Mean Squared Error: 162752.6595832123\n",
            "No\n",
            "Mean Squared Error: 162752.6595832123\n",
            "No\n",
            "Mean Squared Error: 162752.6595832123\n",
            "No\n"
          ]
        },
        {
          "output_type": "stream",
          "name": "stderr",
          "text": [
            "\r 94%|█████████▍| 94/100 [03:44<00:14,  2.34s/it]"
          ]
        },
        {
          "output_type": "stream",
          "name": "stdout",
          "text": [
            "Mean Squared Error: 162752.6595832123\n",
            "No\n",
            "Mean Squared Error: 162752.6595832123\n",
            "No\n",
            "cannot unpack non-iterable NoneType object\n",
            "Mean Squared Error: 108.01599486359736\n",
            "Yes\n",
            "Mean Squared Error: 108.01599486359736\n",
            "True\n",
            "Yes\n",
            "Mean Squared Error: 108.01599486359736\n",
            "No\n",
            "Mean Squared Error: 108.01599486359736\n",
            "True\n",
            "Yes\n",
            "Mean Squared Error: 108.01599486359736\n",
            "True\n",
            "Yes\n",
            "Mean Squared Error: 108.01599486359736\n",
            "No\n",
            "Mean Squared Error: 108.01599486359736\n",
            "True\n"
          ]
        },
        {
          "output_type": "stream",
          "name": "stderr",
          "text": [
            "\r 95%|█████████▌| 95/100 [03:47<00:12,  2.47s/it]"
          ]
        },
        {
          "output_type": "stream",
          "name": "stdout",
          "text": [
            "Yes\n",
            "Mean Squared Error: 1253448.912766978\n",
            "No\n",
            "Mean Squared Error: 1253448.912766978\n",
            "Yes\n",
            "Mean Squared Error: 1253448.912766978\n",
            "True\n",
            "Yes\n",
            "Mean Squared Error: 1253448.912766978\n",
            "True\n",
            "Yes\n",
            "Mean Squared Error: 1253448.912766978\n",
            "No\n",
            "Mean Squared Error: 1253448.912766978\n",
            "No\n"
          ]
        },
        {
          "output_type": "stream",
          "name": "stderr",
          "text": [
            "\r 96%|█████████▌| 96/100 [03:51<00:11,  2.79s/it]"
          ]
        },
        {
          "output_type": "stream",
          "name": "stdout",
          "text": [
            "Mean Squared Error: 1253448.912766978\n",
            "No\n",
            "Mean Squared Error: 146.61011553820728\n",
            "No\n",
            "Mean Squared Error: 146.61011553820728\n",
            "Yes\n",
            "Mean Squared Error: 146.61011553820728\n",
            "True\n",
            "Yes\n",
            "Mean Squared Error: 146.61011553820728\n",
            "True\n",
            "Yes\n",
            "Mean Squared Error: 146.61011553820728\n",
            "No\n",
            "Mean Squared Error: 146.61011553820728\n",
            "True\n",
            "Yes\n"
          ]
        },
        {
          "output_type": "stream",
          "name": "stderr",
          "text": [
            "\r 97%|█████████▋| 97/100 [03:54<00:08,  2.92s/it]"
          ]
        },
        {
          "output_type": "stream",
          "name": "stdout",
          "text": [
            "Mean Squared Error: 146.61011553820728\n",
            "True\n",
            "Yes\n",
            "Mean Squared Error: 282.27420500105416\n",
            "Yes\n",
            "Mean Squared Error: 282.27420500105416\n",
            "No\n",
            "Mean Squared Error: 282.27420500105416\n",
            "True\n",
            "Yes\n",
            "Mean Squared Error: 282.27420500105416\n",
            "No\n",
            "Mean Squared Error: 282.27420500105416\n",
            "No\n"
          ]
        },
        {
          "output_type": "stream",
          "name": "stderr",
          "text": [
            "\r 98%|█████████▊| 98/100 [03:56<00:05,  2.67s/it]"
          ]
        },
        {
          "output_type": "stream",
          "name": "stdout",
          "text": [
            "Mean Squared Error: 282.27420500105416\n",
            "No\n",
            "Mean Squared Error: 282.27420500105416\n",
            "No\n",
            "Mean Squared Error: 3784.553858567588\n",
            "Yes\n",
            "Mean Squared Error: 3784.553858567588\n",
            "No\n",
            "Mean Squared Error: 3784.553858567588\n",
            "No\n",
            "Mean Squared Error: 3784.553858567588\n",
            "True\n",
            "Yes\n",
            "Mean Squared Error: 3784.553858567588\n",
            "No\n",
            "Mean Squared Error: 3784.553858567588\n",
            "True\n",
            "Yes\n"
          ]
        },
        {
          "output_type": "stream",
          "name": "stderr",
          "text": [
            "\r 99%|█████████▉| 99/100 [03:58<00:02,  2.55s/it]"
          ]
        },
        {
          "output_type": "stream",
          "name": "stdout",
          "text": [
            "Mean Squared Error: 3784.553858567588\n",
            "True\n",
            "Yes\n",
            "Mean Squared Error: 50288.0506546901\n",
            "Yes\n",
            "Mean Squared Error: 50288.0506546901\n",
            "True\n",
            "Yes\n",
            "Mean Squared Error: 50288.0506546901\n",
            "No\n",
            "Mean Squared Error: 50288.0506546901\n",
            "True\n",
            "Yes\n",
            "Mean Squared Error: 50288.0506546901\n",
            "No\n"
          ]
        },
        {
          "output_type": "stream",
          "name": "stderr",
          "text": [
            "100%|██████████| 100/100 [04:00<00:00,  2.41s/it]"
          ]
        },
        {
          "output_type": "stream",
          "name": "stdout",
          "text": [
            "Mean Squared Error: 50288.0506546901\n",
            "No\n",
            "Mean Squared Error: 50288.0506546901\n",
            "No\n"
          ]
        },
        {
          "output_type": "stream",
          "name": "stderr",
          "text": [
            "\n"
          ]
        }
      ]
    },
    {
      "cell_type": "code",
      "source": [
        "print('Total Perc Returns:', sum(results1), '%')\n",
        "print('Total Monetary Returns:', '£', sum([sum(x) for x in total_money_made]))\n",
        "print('Average Perc Returns:', np.mean(results1), '%')\n",
        "print('Average Monetary Returns:', '£', np.mean([sum(x) for x in total_money_made]))\n",
        "print('Total Invested:', '£', sum([sum(x) for x in total_invest]) )\n",
        "money_made = sum([sum(x) for x in total_money_made])\n",
        "total_invested = sum([sum(x) for x in total_invest])\n",
        "print(\"Total Return Percent:\",(money_made/total_invested)*100)"
      ],
      "metadata": {
        "colab": {
          "base_uri": "https://localhost:8080/"
        },
        "id": "X0U8CgVtdAFq",
        "outputId": "8e5abbf1-5003-4c1b-9cc9-bf0c3e4717d2"
      },
      "execution_count": null,
      "outputs": [
        {
          "output_type": "stream",
          "name": "stdout",
          "text": [
            "Total Perc Returns: 284.75351048790446 %\n",
            "Total Monetary Returns: £ 2862.3546142578125\n",
            "Average Perc Returns: 4.250052395341858 %\n",
            "Average Monetary Returns: £ 42.72171066056436\n",
            "Total Invested: £ 398234.9385070801\n",
            "Total Return Percent: 0.7187602938577735\n"
          ]
        }
      ]
    },
    {
      "cell_type": "code",
      "source": [
        "plt.hist(results1)"
      ],
      "metadata": {
        "colab": {
          "base_uri": "https://localhost:8080/",
          "height": 517
        },
        "id": "P2mxFSyndAHz",
        "outputId": "7ae61d85-c79e-4485-fe72-9ed1ad2e0671"
      },
      "execution_count": null,
      "outputs": [
        {
          "output_type": "execute_result",
          "data": {
            "text/plain": [
              "(array([ 8.,  5.,  7., 17., 15.,  6.,  6.,  1.,  1.,  1.]),\n",
              " array([-11.59082341,  -7.31008177,  -3.02934014,   1.25140149,\n",
              "          5.53214313,   9.81288476,  14.09362639,  18.37436803,\n",
              "         22.65510966,  26.93585129,  31.21659293]),\n",
              " <BarContainer object of 10 artists>)"
            ]
          },
          "metadata": {},
          "execution_count": 37
        },
        {
          "output_type": "display_data",
          "data": {
            "text/plain": [
              "<Figure size 640x480 with 1 Axes>"
            ],
            "image/png": "[encoded data removed]"
          },
          "metadata": {}
        }
      ]
    },
    {
      "cell_type": "code",
      "source": [
        "total_invest"
      ],
      "metadata": {
        "id": "ulN5LI01iDLM",
        "colab": {
          "base_uri": "https://localhost:8080/"
        },
        "outputId": "e1359f43-1be1-4b91-d0ac-f097debd6cb2"
      },
      "execution_count": null,
      "outputs": [
        {
          "output_type": "execute_result",
          "data": {
            "text/plain": [
              "[[507.6000061035156, 553.5999755859375],\n",
              " [1484.0, 1516.5, 1546.0, 1641.5, 1571.5],\n",
              " [151.3000030517578, 181.75],\n",
              " [1482.5999755859375, 1615.0],\n",
              " [554.7999877929688, 560.2000122070312],\n",
              " [51.560001373291016, 48.9900016784668, 53.41999816894531],\n",
              " [924.0, 923.2000122070312, 941.4000244140624, 1051.0, 1097.199951171875],\n",
              " [1510.0, 1510.0],\n",
              " [554.5999755859375, 513.5999755859375],\n",
              " [977.5999755859376, 995.4000244140624, 1044.5],\n",
              " [6000.0, 4560.5, 5434.0],\n",
              " [2238.0, 1812.5, 1924.5],\n",
              " [259.20001220703125,\n",
              "  271.70001220703125,\n",
              "  288.79998779296875,\n",
              "  286.8999938964844,\n",
              "  272.1000061035156,\n",
              "  296.0],\n",
              " [2310.0, 2383.0, 2407.0],\n",
              " [4812.0, 5118.0],\n",
              " [104.3000030517578, 115.6999969482422, 116.94000244140624],\n",
              " [711.5999755859375, 696.0, 744.0],\n",
              " [2282.0, 2504.0],\n",
              " [7912.0, 7428.0],\n",
              " [2899.0, 3081.0],\n",
              " [726.5999755859375, 672.4000244140625, 693.7999877929688, 635.7999877929688],\n",
              " [361.2999877929688,\n",
              "  364.2999877929688,\n",
              "  361.1000061035156,\n",
              "  334.5,\n",
              "  334.5,\n",
              "  323.5],\n",
              " [227.3500061035156,\n",
              "  223.3500061035156,\n",
              "  233.1499938964844,\n",
              "  254.4499969482422,\n",
              "  285.3500061035156,\n",
              "  300.0],\n",
              " [331.25,\n",
              "  307.6000061035156,\n",
              "  359.3999938964844,\n",
              "  367.8999938964844,\n",
              "  399.1000061035156],\n",
              " [2477.0, 2506.0],\n",
              " [409.8500061035156, 361.7000122070313, 431.2999877929688],\n",
              " [848.0, 798.5999755859375, 709.7999877929688, 587.0],\n",
              " [415.3999938964844, 381.2999877929688, 377.2000122070313],\n",
              " [528.6842041015625, 512.105224609375, 515.6577758789062],\n",
              " [1513.0, 1567.0, 1376.0, 1322.5],\n",
              " [625.4000244140625, 742.5999755859375, 710.7999877929688],\n",
              " [3057.0, 3251.0, 2797.0, 2997.0],\n",
              " [507.3999938964844, 459.2000122070313, 417.7999877929688],\n",
              " [4276.5, 4259.0, 4092.0, 3988.0, 3929.5],\n",
              " [1542.0, 1380.0, 1380.5],\n",
              " [174.39999389648438, 179.72000122070312, 202.25],\n",
              " [139.0, 135.60000610351562, 137.6999969482422, 153.0, 135.0],\n",
              " [278.0, 276.3999938964844, 268.79998779296875, 288.20001220703125],\n",
              " [159.0500030517578, 193.5500030517578],\n",
              " [591.9400024414062, 609.1099853515625, 565.5900268554688],\n",
              " [12620.0, 14760.0, 10660.0, 10765.0],\n",
              " [6327.0, 5925.0, 5983.0, 6183.0],\n",
              " [1363.35791015625,\n",
              "  1446.9686279296875,\n",
              "  1414.3302001953125,\n",
              "  1555.76318359375,\n",
              "  1618.4208984375],\n",
              " [569.7999877929688, 662.7999877929688],\n",
              " [1100.0, 1339.0],\n",
              " [1690.5, 1602.5, 1421.5, 1560.5, 1320.0],\n",
              " [50.220001220703125, 44.34999847412109],\n",
              " [175.10000610351562,\n",
              "  166.35000610351562,\n",
              "  150.60000610351562,\n",
              "  167.3000030517578,\n",
              "  145.6999969482422],\n",
              " [548.0, 503.6000061035156, 532.4000244140625, 524.7999877929688, 491.5],\n",
              " [4675.0, 4634.0],\n",
              " [5884.0, 6080.0, 6106.0, 5600.0],\n",
              " [139.4600067138672,\n",
              "  114.13999938964844,\n",
              "  112.45999908447266,\n",
              "  126.08000183105467],\n",
              " [5808.0, 5288.0, 5006.0],\n",
              " [2530.0, 2595.0],\n",
              " [203.8614959716797,\n",
              "  232.29229736328125,\n",
              "  223.4615020751953,\n",
              "  230.89230346679688],\n",
              " [178.0, 149.5, 132.55999755859375, 154.25999450683594],\n",
              " [261.0, 222.3000030517578, 178.0],\n",
              " [1431.2430419921875, 1324.5, 1274.0],\n",
              " [2786.5, 2641.5, 3180.0],\n",
              " [2438.0, 2568.0, 2419.0, 2444.0],\n",
              " [2016.0, 1783.5, 1856.5],\n",
              " [752.4000244140625,\n",
              "  702.2000122070312,\n",
              "  676.2000122070312,\n",
              "  643.7999877929688,\n",
              "  602.4000244140625],\n",
              " [8499.0, 8157.0, 8559.0],\n",
              " [979.5999755859376, 970.7999877929688, 953.0, 1093.5, 1143.5],\n",
              " [869.0, 793.7999877929688],\n",
              " [1940.0, 1700.0, 1585.0, 1508.5],\n",
              " [3303.5, 3484.0, 3437.0]]"
            ]
          },
          "metadata": {},
          "execution_count": 21
        }
      ]
    },
    {
      "cell_type": "code",
      "source": [
        "import numpy as np\n",
        "\n",
        "# Generate predicted returns (replace this with your actual predicted returns)\n",
        "predicted_returns = results1\n",
        "\n",
        "# Function to calculate statistic of interest (e.g., mean return)\n",
        "def calculate_statistic(data):\n",
        "    return np.mean(data)\n",
        "\n",
        "# Number of bootstrap samples\n",
        "num_bootstraps = 1000\n",
        "\n",
        "# Initialize array to store bootstrapped statistics\n",
        "bootstrapped_statistics = np.zeros(num_bootstraps)\n",
        "\n",
        "# Perform bootstrapping\n",
        "for i in range(num_bootstraps):\n",
        "    # Resample with replacement\n",
        "    resampled_returns = np.random.choice(predicted_returns, size=len(predicted_returns), replace=True)\n",
        "    # Calculate statistic of interest\n",
        "    bootstrapped_statistics[i] = calculate_statistic(resampled_returns)\n",
        "\n",
        "# Calculate confidence intervals\n",
        "confidence_interval = np.percentile(bootstrapped_statistics, [2.5, 97.5])\n",
        "\n",
        "# Calculate original statistic\n",
        "original_statistic = calculate_statistic(predicted_returns)\n",
        "\n",
        "# Print results\n",
        "print(\"Original Statistic:\", original_statistic)\n",
        "print(\"95% Confidence Interval:\", confidence_interval)\n",
        "if original_statistic < confidence_interval[0] or original_statistic > confidence_interval[1]:\n",
        "    print(\"Original statistic is statistically significant.\")\n",
        "else:\n",
        "    print(\"Original statistic is not statistically significant.\")\n"
      ],
      "metadata": {
        "colab": {
          "base_uri": "https://localhost:8080/"
        },
        "id": "7RhSdsquTFoK",
        "outputId": "346b6d2a-19e1-47ed-eeb0-f5ffca0eaae0"
      },
      "execution_count": null,
      "outputs": [
        {
          "output_type": "stream",
          "name": "stdout",
          "text": [
            "Original Statistic: 4.250052395341858\n",
            "95% Confidence Interval: [2.1965601  6.27182661]\n",
            "Original statistic is not statistically significant.\n"
          ]
        }
      ]
    },
    {
      "cell_type": "code",
      "source": [
        "\n",
        "\n"
      ],
      "metadata": {
        "id": "HrUiHAELmfFT"
      },
      "execution_count": null,
      "outputs": []
    }
  ]
}